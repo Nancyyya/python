{
 "cells": [
  {
   "cell_type": "code",
   "execution_count": 13,
   "metadata": {},
   "outputs": [
    {
     "ename": "FileNotFoundError",
     "evalue": "[Errno 2] No such file or directory: 'death_valley_2014.csv'",
     "output_type": "error",
     "traceback": [
      "\u001b[0;31m---------------------------------------------------------------------------\u001b[0m",
      "\u001b[0;31mFileNotFoundError\u001b[0m                         Traceback (most recent call last)",
      "\u001b[0;32m<ipython-input-13-2ae7723670d2>\u001b[0m in \u001b[0;36m<module>\u001b[0;34m()\u001b[0m\n\u001b[1;32m      4\u001b[0m \u001b[0;32mfrom\u001b[0m \u001b[0mdatetime\u001b[0m \u001b[0;32mimport\u001b[0m \u001b[0mdatetime\u001b[0m\u001b[0;34m\u001b[0m\u001b[0m\n\u001b[1;32m      5\u001b[0m \u001b[0mfilename\u001b[0m \u001b[0;34m=\u001b[0m \u001b[0;34m'death_valley_2014.csv'\u001b[0m\u001b[0;34m\u001b[0m\u001b[0m\n\u001b[0;32m----> 6\u001b[0;31m \u001b[0;32mwith\u001b[0m \u001b[0mopen\u001b[0m\u001b[0;34m(\u001b[0m\u001b[0mfilename\u001b[0m\u001b[0;34m)\u001b[0m \u001b[0;32mas\u001b[0m \u001b[0mf\u001b[0m\u001b[0;34m:\u001b[0m\u001b[0;34m\u001b[0m\u001b[0m\n\u001b[0m\u001b[1;32m      7\u001b[0m     \u001b[0mreader\u001b[0m \u001b[0;34m=\u001b[0m \u001b[0mcsv\u001b[0m\u001b[0;34m.\u001b[0m\u001b[0mreader\u001b[0m\u001b[0;34m(\u001b[0m\u001b[0mf\u001b[0m\u001b[0;34m)\u001b[0m\u001b[0;34m\u001b[0m\u001b[0m\n\u001b[1;32m      8\u001b[0m     \u001b[0mheader_row\u001b[0m \u001b[0;34m=\u001b[0m \u001b[0mnext\u001b[0m\u001b[0;34m(\u001b[0m\u001b[0mreader\u001b[0m\u001b[0;34m)\u001b[0m\u001b[0;34m\u001b[0m\u001b[0m\n",
      "\u001b[0;31mFileNotFoundError\u001b[0m: [Errno 2] No such file or directory: 'death_valley_2014.csv'"
     ]
    }
   ],
   "source": [
    "#16-1\n",
    "import csv\n",
    "from matplotlib import pyplot as plt\n",
    "from datetime import datetime\n",
    "filename = 'death_valley_2014.csv'\n",
    "with open(filename) as f:\n",
    "    reader = csv.reader(f)\n",
    "    header_row = next(reader)\n",
    "    #print(header_row)\n",
    "    highs,lows,dates = [],[],[]\n",
    "    for row in reader:\n",
    "        try:\n",
    "            #print(row)\n",
    "            current_date = datetime.strptime(row[0],\"%Y-%m-%d\")\n",
    "            high = int(row[1])\n",
    "            low = int(row[3])\n",
    "        except:\n",
    "            print(current_date,' missing data')\n",
    "        else:\n",
    "            highs.append(high)\n",
    "            lows.append(low)\n",
    "            dates.append(current_date)\n",
    "    fig = plt.figure(dpi=128,figsize=(10,6))\n",
    "    plt.plot(dates,highs,c='red')\n",
    "    plt.plot(dates,lows,c='blue')\n",
    "    plt.fill_between(dates,highs,lows,facecolor='blue',alpha=0.1)\n",
    "    plt.title(\"Daily high and low temperature -2014\",fontsize=15)\n",
    "    plt.show()"
   ]
  },
  {
   "cell_type": "code",
   "execution_count": 12,
   "metadata": {
    "collapsed": true
   },
   "outputs": [
    {
     "name": "stdout",
     "output_type": "stream",
     "text": [
      "Help on function fill_between in module matplotlib.pyplot:\n",
      "\n",
      "fill_between(x, y1, y2=0, where=None, interpolate=False, step=None, hold=None, data=None, **kwargs)\n",
      "    Make filled polygons between two curves.\n",
      "    \n",
      "    \n",
      "    Create a :class:`~matplotlib.collections.PolyCollection`\n",
      "    filling the regions between *y1* and *y2* where\n",
      "    ``where==True``\n",
      "    \n",
      "    Parameters\n",
      "    ----------\n",
      "    x : array\n",
      "        An N-length array of the x data\n",
      "    \n",
      "    y1 : array\n",
      "        An N-length array (or scalar) of the y data\n",
      "    \n",
      "    y2 : array\n",
      "        An N-length array (or scalar) of the y data\n",
      "    \n",
      "    where : array, optional\n",
      "        If `None`, default to fill between everywhere.  If not `None`,\n",
      "        it is an N-length numpy boolean array and the fill will\n",
      "        only happen over the regions where ``where==True``.\n",
      "    \n",
      "    interpolate : bool, optional\n",
      "        If `True`, interpolate between the two lines to find the\n",
      "        precise point of intersection.  Otherwise, the start and\n",
      "        end points of the filled region will only occur on explicit\n",
      "        values in the *x* array.\n",
      "    \n",
      "    step : {'pre', 'post', 'mid'}, optional\n",
      "        If not None, fill with step logic.\n",
      "    \n",
      "    \n",
      "    Notes\n",
      "    -----\n",
      "    \n",
      "    Additional Keyword args passed on to the\n",
      "    :class:`~matplotlib.collections.PolyCollection`.\n",
      "    \n",
      "    kwargs control the :class:`~matplotlib.patches.Polygon` properties:\n",
      "    \n",
      "      agg_filter: unknown\n",
      "      alpha: float or None \n",
      "      animated: [True | False] \n",
      "      antialiased or antialiaseds: Boolean or sequence of booleans \n",
      "      array: unknown\n",
      "      axes: an :class:`~matplotlib.axes.Axes` instance \n",
      "      clim: a length 2 sequence of floats \n",
      "      clip_box: a :class:`matplotlib.transforms.Bbox` instance \n",
      "      clip_on: [True | False] \n",
      "      clip_path: [ (:class:`~matplotlib.path.Path`, :class:`~matplotlib.transforms.Transform`) | :class:`~matplotlib.patches.Patch` | None ] \n",
      "      cmap: a colormap or registered colormap name \n",
      "      color: matplotlib color arg or sequence of rgba tuples\n",
      "      contains: a callable function \n",
      "      edgecolor or edgecolors: matplotlib color spec or sequence of specs \n",
      "      facecolor or facecolors: matplotlib color spec or sequence of specs \n",
      "      figure: a :class:`matplotlib.figure.Figure` instance \n",
      "      gid: an id string \n",
      "      hatch: [ '/' | '\\\\' | '|' | '-' | '+' | 'x' | 'o' | 'O' | '.' | '*' ] \n",
      "      label: string or anything printable with '%s' conversion. \n",
      "      linestyle or dashes or linestyles: ['solid' | 'dashed', 'dashdot', 'dotted' | (offset, on-off-dash-seq) | ``'-'`` | ``'--'`` | ``'-.'`` | ``':'`` | ``'None'`` | ``' '`` | ``''``]\n",
      "      linewidth or linewidths or lw: float or sequence of floats \n",
      "      norm: unknown\n",
      "      offset_position: unknown\n",
      "      offsets: float or sequence of floats \n",
      "      path_effects: unknown\n",
      "      picker: [None|float|boolean|callable] \n",
      "      pickradius: unknown\n",
      "      rasterized: [True | False | None] \n",
      "      sketch_params: unknown\n",
      "      snap: unknown\n",
      "      transform: :class:`~matplotlib.transforms.Transform` instance \n",
      "      url: a url string \n",
      "      urls: unknown\n",
      "      visible: [True | False] \n",
      "      zorder: any number \n",
      "    \n",
      "    Examples\n",
      "    --------\n",
      "    \n",
      "    .. plot:: mpl_examples/pylab_examples/fill_between_demo.py\n",
      "    \n",
      "    See Also\n",
      "    --------\n",
      "    \n",
      "        :meth:`fill_betweenx`\n",
      "            for filling between two sets of x-values\n",
      "    \n",
      "    .. note::\n",
      "        In addition to the above described arguments, this function can take a\n",
      "        **data** keyword argument. If such a **data** argument is given, the\n",
      "        following arguments are replaced by **data[<arg>]**:\n",
      "    \n",
      "        * All arguments with the following names: 'where', 'x', 'y1', 'y2'.\n",
      "\n"
     ]
    }
   ],
   "source": [
    "help(plt.fill_between)"
   ]
  },
  {
   "cell_type": "code",
   "execution_count": null,
   "metadata": {
    "collapsed": true
   },
   "outputs": [],
   "source": []
  }
 ],
 "metadata": {
  "kernelspec": {
   "display_name": "Python 3",
   "language": "python",
   "name": "python3"
  },
  "language_info": {
   "codemirror_mode": {
    "name": "ipython",
    "version": 3
   },
   "file_extension": ".py",
   "mimetype": "text/x-python",
   "name": "python",
   "nbconvert_exporter": "python",
   "pygments_lexer": "ipython3",
   "version": "3.6.1"
  }
 },
 "nbformat": 4,
 "nbformat_minor": 2
}
