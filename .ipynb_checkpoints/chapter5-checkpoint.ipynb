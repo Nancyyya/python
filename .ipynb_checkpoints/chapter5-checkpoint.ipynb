{
 "cells": [
  {
   "cell_type": "code",
   "execution_count": 3,
   "metadata": {
    "collapsed": true
   },
   "outputs": [
    {
     "name": "stdout",
     "output_type": "stream",
     "text": [
      "Is car ==\"Audi\"? I predit false\n",
      "False\n",
      "Is num >10? I predit true\n",
      "True\n",
      "Is c !=\"Audi\"? I predit true\n",
      "True\n",
      "Is d>10 and d<20 ? I predit false\n",
      "False\n",
      "Is e>10 or d<20 ? I predit true\n",
      "True\n",
      "Is a in lista?  I predit true\n",
      "True\n",
      "Is d in lista?  I predit false\n",
      "False\n",
      "Is e not in lista?  I predit true\n",
      "True\n",
      "Is b not in lista?  I predit false\n",
      "False\n",
      "Is can_edit ?  I predit false\n",
      "False\n"
     ]
    }
   ],
   "source": [
    "#5-1\n",
    "car = 'audi'\n",
    "print('Is car ==\"Audi\"? I predit false')\n",
    "print(car==\"Audi\")\n",
    "num = 18\n",
    "print('Is num >10? I predit true')\n",
    "print(num>10)\n",
    "c = 'hello'\n",
    "print('Is c !=\"Audi\"? I predit true')\n",
    "print(c!=\"Audi\")\n",
    "d = 20\n",
    "print('Is d>10 and d<20 ? I predit false')\n",
    "print(d>10 and d<20)\n",
    "e = 20\n",
    "print('Is e>10 or d<20 ? I predit true')\n",
    "print(e>10 or e<20)\n",
    "lista=['a','b','c']\n",
    "print(\"Is a in lista?  I predit true\")\n",
    "print('a' in lista)\n",
    "print(\"Is d in lista?  I predit false\")\n",
    "print('d' in lista)\n",
    "print(\"Is e not in lista?  I predit true\")\n",
    "print('e' not in lista)\n",
    "print(\"Is b not in lista?  I predit false\")\n",
    "print('b' not in lista)\n",
    "can_edit=False\n",
    "print(\"Is can_edit ?  I predit false\")\n",
    "print(can_edit)\n"
   ]
  },
  {
   "cell_type": "code",
   "execution_count": 5,
   "metadata": {
    "collapsed": true
   },
   "outputs": [
    {
     "name": "stdout",
     "output_type": "stream",
     "text": [
      "True\n",
      "False\n",
      "True\n",
      "True\n",
      "False\n",
      "True\n",
      "True\n",
      "True\n",
      "True\n",
      "False\n",
      "False\n",
      "True\n",
      "True\n",
      "False\n",
      "False\n",
      "True\n"
     ]
    }
   ],
   "source": [
    "#5-2\n",
    "print('abc'=='abc')\n",
    "print('abc'!='abc')\n",
    "print('abc'=='Abc'.lower())\n",
    "print('Abc'!='Abc'.lower())\n",
    "age=18\n",
    "print(age>18)\n",
    "print(age<20)\n",
    "print(age>=18)\n",
    "print(age<=18)\n",
    "print(age==18)\n",
    "print(age!=18)\n",
    "print(age!=18 and age>10) #false\n",
    "print(age!=18 or age>10) #true\n",
    "lista=['a','b','c']\n",
    "print('a' in lista)\n",
    "print('a' not in lista)\n",
    "print('d' in lista)\n",
    "print('d' not in lista)"
   ]
  },
  {
   "cell_type": "code",
   "execution_count": 7,
   "metadata": {},
   "outputs": [
    {
     "name": "stdout",
     "output_type": "stream",
     "text": [
      "Success! You get 5 points!\n"
     ]
    }
   ],
   "source": [
    "#5-3\n",
    "alien_color='green'\n",
    "if alien_color=='green':\n",
    "    print('Success! You get 5 points!')\n",
    "alien_color='yellow'\n",
    "if alien_color=='green':\n",
    "    print('Success! You get 5 points!')"
   ]
  },
  {
   "cell_type": "code",
   "execution_count": 8,
   "metadata": {},
   "outputs": [
    {
     "name": "stdout",
     "output_type": "stream",
     "text": [
      "Success! You get 5 points!\n",
      "---------------------------\n",
      "You get 5 points!\n"
     ]
    }
   ],
   "source": [
    "#5-4\n",
    "alien_color='green'\n",
    "if alien_color=='green':\n",
    "    print('Success! You get 5 points!')\n",
    "else:\n",
    "    print('You get 10 points!')\n",
    "print('---------------------------')\n",
    "alien_color='yellow'\n",
    "if alien_color=='green':\n",
    "    print('Success! You get 5 points!')\n",
    "else:\n",
    "    print('You get 10 points!') "
   ]
  },
  {
   "cell_type": "code",
   "execution_count": 10,
   "metadata": {},
   "outputs": [
    {
     "name": "stdout",
     "output_type": "stream",
     "text": [
      "You get 15 points!\n"
     ]
    }
   ],
   "source": [
    "#5-5\n",
    "#alien_color='green'\n",
    "#alien_color='yellow'\n",
    "alien_color='red'\n",
    "if alien_color=='green':\n",
    "    print('Success! You get 5 points!')\n",
    "elif alien_color=='yellow':\n",
    "    print('You get 10 points!')\n",
    "else:\n",
    "    print('You get 15 points!')"
   ]
  },
  {
   "cell_type": "code",
   "execution_count": 11,
   "metadata": {},
   "outputs": [
    {
     "name": "stdout",
     "output_type": "stream",
     "text": [
      "儿童\n"
     ]
    }
   ],
   "source": [
    "#5-6\n",
    "age=5\n",
    "if age<2:\n",
    "    print('婴儿')\n",
    "elif age>=2 and age<4:\n",
    "    print('蹒跚学步')\n",
    "elif age>=4 and age<13:\n",
    "    print('儿童')\n",
    "elif age>=13 and age<20:\n",
    "    print('青少年')\n",
    "elif age>=20 and age<65:\n",
    "    print('成年人')\n",
    "elif age>=65:\n",
    "    print('老人')"
   ]
  },
  {
   "cell_type": "code",
   "execution_count": 12,
   "metadata": {},
   "outputs": [
    {
     "name": "stdout",
     "output_type": "stream",
     "text": [
      "you really like apple\n",
      "you really like mongo\n"
     ]
    }
   ],
   "source": [
    "#5-7\n",
    "favorite_fruit=['apple','mongo','Durio']\n",
    "if 'banana' in favorite_fruit:\n",
    "    print('you really like banana')\n",
    "if 'apple' in favorite_fruit:\n",
    "    print('you really like apple')\n",
    "if 'mongo' in favorite_fruit:\n",
    "    print('you really like mongo')\n",
    "if 'pineapple' in favorite_fruit:\n",
    "    print('you really like pineapple')\n",
    "if 'watermelon' in favorite_fruit:\n",
    "    print('you really like watermelon')"
   ]
  },
  {
   "cell_type": "code",
   "execution_count": 13,
   "metadata": {},
   "outputs": [
    {
     "name": "stdout",
     "output_type": "stream",
     "text": [
      "Hello admin ,would you like to see a status report?\n",
      "Hello tom ,welcome\n",
      "Hello mike ,welcome\n",
      "Hello lily ,welcome\n",
      "Hello ary ,welcome\n"
     ]
    }
   ],
   "source": [
    "#5-8\n",
    "user=['admin','tom','mike','lily','ary']\n",
    "for u in user:\n",
    "    if u=='admin':\n",
    "        print('Hello '+u+' ,would you like to see a status report?')\n",
    "    else:\n",
    "        print('Hello '+u+' ,welcome')"
   ]
  },
  {
   "cell_type": "code",
   "execution_count": 15,
   "metadata": {},
   "outputs": [
    {
     "name": "stdout",
     "output_type": "stream",
     "text": [
      "You need to find some user.\n"
     ]
    }
   ],
   "source": [
    "#5-9\n",
    "user=['admin','tom','mike','lily','ary']\n",
    "user.pop()\n",
    "user.pop()\n",
    "user.pop()\n",
    "user.pop()\n",
    "user.pop()\n",
    "if user:\n",
    "    for u in user:\n",
    "        if u=='admin':\n",
    "            print('Hello '+u+' ,would you like to see a status report?')\n",
    "        else:\n",
    "            print('Hello '+u+' ,welcome')\n",
    "else:\n",
    "    print('You need to find some user.')"
   ]
  },
  {
   "cell_type": "code",
   "execution_count": 21,
   "metadata": {},
   "outputs": [
    {
     "name": "stdout",
     "output_type": "stream",
     "text": [
      "用户名可用\n",
      "重复，请输入其他用户名\n",
      "用户名可用\n",
      "重复，请输入其他用户名\n",
      "用户名可用\n"
     ]
    }
   ],
   "source": [
    "#5-10\n",
    "curuser=['admin','Tom','mike','lily','ary']\n",
    "newuser=['adm','tom','tony','Lily','nancy']\n",
    "for u in newuser:\n",
    "    if u.lower() in [cusr.lower() for cusr in curuser]: #cusr.lower for c in curuser 组成转换为小写的list\n",
    "        print('重复，请输入其他用户名')\n",
    "    else:\n",
    "        print('用户名可用')"
   ]
  },
  {
   "cell_type": "code",
   "execution_count": 24,
   "metadata": {},
   "outputs": [
    {
     "name": "stdout",
     "output_type": "stream",
     "text": [
      "[1, 2, 3, 4, 5, 6, 7, 8, 9]\n",
      "1st\n",
      "2nd\n",
      "3rd\n",
      "4th\n",
      "5th\n",
      "6th\n",
      "7th\n",
      "8th\n",
      "9th\n"
     ]
    }
   ],
   "source": [
    "#5-11\n",
    "lists=[r for r in range(1,10)]\n",
    "print(lists)\n",
    "for i in lists:\n",
    "    if i==1:\n",
    "        print('1st')\n",
    "    elif i==2:\n",
    "        print('2nd')\n",
    "    elif i==3:\n",
    "        print('3rd')\n",
    "    else:\n",
    "        print(str(i)+'th')"
   ]
  },
  {
   "cell_type": "code",
   "execution_count": null,
   "metadata": {
    "collapsed": true
   },
   "outputs": [],
   "source": [
    "#5-12\n",
    "# if a < 10  比较运算符左右各添加一个空格，更清晰。"
   ]
  }
 ],
 "metadata": {
  "kernelspec": {
   "display_name": "Python 3",
   "language": "python",
   "name": "python3"
  },
  "language_info": {
   "codemirror_mode": {
    "name": "ipython",
    "version": 3
   },
   "file_extension": ".py",
   "mimetype": "text/x-python",
   "name": "python",
   "nbconvert_exporter": "python",
   "pygments_lexer": "ipython3",
   "version": "3.6.1"
  }
 },
 "nbformat": 4,
 "nbformat_minor": 2
}
