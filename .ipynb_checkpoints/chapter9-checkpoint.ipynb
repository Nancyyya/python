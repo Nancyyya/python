{
 "cells": [
  {
   "cell_type": "code",
   "execution_count": 6,
   "metadata": {},
   "outputs": [],
   "source": [
    "# 类\n",
    "#9-1\n",
    "class Restaurant():\n",
    "    \"\"\"餐馆类\"\"\"\n",
    "    def __init__(self,restaurant_name,cuisine_type):\n",
    "        \"\"\"初始化\"\"\"\n",
    "        self.restaurant_name = restaurant_name\n",
    "        self.cuisine_type = cuisine_type\n",
    "        \n",
    "    def describe_restaurant(self):\n",
    "        \"\"\"描述餐馆\"\"\"\n",
    "        print('describe restaurant______')\n",
    "        print('name: ' + self.restaurant_name.title())\n",
    "        print('type: ' + self.cuisine_type) \n",
    "        \n",
    "    def open_restaurant(self):\n",
    "        \"\"\"餐馆开张\"\"\"\n",
    "        print('Open now!!!')"
   ]
  },
  {
   "cell_type": "code",
   "execution_count": 8,
   "metadata": {},
   "outputs": [
    {
     "name": "stdout",
     "output_type": "stream",
     "text": [
      "Baheli\n",
      "中餐\n",
      "name: Baheli\n",
      "type: 中餐\n",
      "Open now!!!\n"
     ]
    }
   ],
   "source": [
    "restaurant = Restaurant('Baheli','中餐')\n",
    "print(restaurant.restaurant_name)\n",
    "print(restaurant.cuisine_type)\n",
    "restaurant.describe_restaurant()\n",
    "restaurant.open_restaurant()"
   ]
  },
  {
   "cell_type": "code",
   "execution_count": 9,
   "metadata": {},
   "outputs": [
    {
     "name": "stdout",
     "output_type": "stream",
     "text": [
      "name: Haidilao\n",
      "type: 火锅\n",
      "name: Tanyaxue\n",
      "type: 川菜\n",
      "name: Songge\n",
      "type: 小龙虾\n"
     ]
    }
   ],
   "source": [
    "#9-2 续\n",
    "r1 = Restaurant('Haidilao','火锅')\n",
    "r2 = Restaurant('tanyaxue','川菜')\n",
    "r3 = Restaurant('songge','小龙虾')\n",
    "r1.describe_restaurant()\n",
    "r2.describe_restaurant()\n",
    "r3.describe_restaurant()"
   ]
  },
  {
   "cell_type": "code",
   "execution_count": 10,
   "metadata": {
    "collapsed": true
   },
   "outputs": [],
   "source": [
    "#9-3\n",
    "class User():\n",
    "    \"\"\"用户定义\"\"\"\n",
    "    def __init__(self,first_name,last_name,**usr_info):\n",
    "        \"\"\"初始化\"\"\"\n",
    "        self.first_name = first_name\n",
    "        self.last_name = last_name\n",
    "        self.usr_info = usr_info\n",
    "    \n",
    "    def describe_user(self):\n",
    "        \"\"\"描述用户\"\"\"\n",
    "        print('describe user-------')\n",
    "        print('first_name: ' + self.first_name.title())\n",
    "        print('last_name: ' + self.last_name.title())\n",
    "        for key,val in self.usr_info.items():\n",
    "            print(key+': '+ val)\n",
    "    \n",
    "    def greet_user(self):\n",
    "        \"\"\"问候\"\"\"\n",
    "        print('Hello, ' + self.first_name.title() + ' ' + self.last_name.title())"
   ]
  },
  {
   "cell_type": "code",
   "execution_count": 12,
   "metadata": {
    "collapsed": true
   },
   "outputs": [
    {
     "name": "stdout",
     "output_type": "stream",
     "text": [
      "describe user-------\n",
      "first_name: Zhang\n",
      "last_name: Sna\n",
      "sex: Male\n",
      "age: 20\n",
      "describe user-------\n",
      "first_name: Nancy\n",
      "last_name: Wang\n",
      "sex: Female\n",
      "age: 18\n",
      "Hello, Zhang Sna\n",
      "Hello, Nancy Wang\n"
     ]
    }
   ],
   "source": [
    "a = User('Zhang','Sna',sex='Male',age='20')\n",
    "b = User('Nancy','Wang',sex='Female',age='18')\n",
    "a.describe_user()\n",
    "b.describe_user()\n",
    "a.greet_user()\n",
    "b.greet_user()"
   ]
  },
  {
   "cell_type": "code",
   "execution_count": 13,
   "metadata": {
    "collapsed": true
   },
   "outputs": [],
   "source": [
    "#9-4\n",
    "class Restaurant():\n",
    "    \"\"\"餐馆类\"\"\"\n",
    "    def __init__(self,restaurant_name,cuisine_type):\n",
    "        \"\"\"初始化\"\"\"\n",
    "        self.restaurant_name = restaurant_name\n",
    "        self.cuisine_type = cuisine_type\n",
    "        self.number_served = 0\n",
    "        \n",
    "    def describe_restaurant(self):\n",
    "        \"\"\"描述餐馆\"\"\"\n",
    "        print('describe restaurant______')\n",
    "        print('name: ' + self.restaurant_name.title())\n",
    "        print('type: ' + self.cuisine_type) \n",
    "        \n",
    "    def open_restaurant(self):\n",
    "        \"\"\"餐馆开张\"\"\"\n",
    "        print('Open now!!!')\n",
    "    \n",
    "    def set_number_served(self,people):\n",
    "        \"\"\"设置用餐人数\"\"\"\n",
    "        self.number_served = people\n",
    "        print('number_served '+ str(self.number_served))\n",
    "    \n",
    "    def increment_number_served(self,people):\n",
    "        \"\"\"设置增加人数\"\"\"\n",
    "        self.number_served += people\n",
    "        print('number_served '+ str(self.number_served))"
   ]
  },
  {
   "cell_type": "code",
   "execution_count": 18,
   "metadata": {},
   "outputs": [
    {
     "name": "stdout",
     "output_type": "stream",
     "text": [
      "describe restaurant______\n",
      "name: Haidilao\n",
      "type: 火锅\n",
      "0\n",
      "number_served 1000\n",
      "number_served 1400\n",
      "now served : 1400\n"
     ]
    }
   ],
   "source": [
    "r1 = Restaurant('Haidilao','火锅')\n",
    "r1.describe_restaurant()\n",
    "print(r1.number_served)\n",
    "r1.set_number_served(1000)\n",
    "r1.increment_number_served(400) #增加400\n",
    "print('now served : '+ str(r1.number_served))"
   ]
  },
  {
   "cell_type": "code",
   "execution_count": 19,
   "metadata": {
    "collapsed": true
   },
   "outputs": [],
   "source": [
    "#9-5\n",
    "class User():\n",
    "    \"\"\"用户定义\"\"\"\n",
    "    def __init__(self,first_name,last_name,**usr_info):\n",
    "        \"\"\"初始化\"\"\"\n",
    "        self.first_name = first_name\n",
    "        self.last_name = last_name\n",
    "        self.usr_info = usr_info\n",
    "        self.login_attempts = 0\n",
    "    \n",
    "    def describe_user(self):\n",
    "        \"\"\"描述用户\"\"\"\n",
    "        print('describe user-------')\n",
    "        print('first_name: ' + self.first_name.title())\n",
    "        print('last_name: ' + self.last_name.title())\n",
    "        for key,val in self.usr_info.items():\n",
    "            print(key+': '+ val)\n",
    "    \n",
    "    def greet_user(self):\n",
    "        \"\"\"问候\"\"\"\n",
    "        print('Hello, ' + self.first_name.title() + ' ' + self.last_name.title())\n",
    "        \n",
    "    def increment_login_attempts(self):\n",
    "        \"\"\"自增\"\"\"\n",
    "        self.login_attempts+=1\n",
    "        \n",
    "    def reset_login_attempts(self):\n",
    "        \"\"\"reset\"\"\"\n",
    "        self.login_attempts=0"
   ]
  },
  {
   "cell_type": "code",
   "execution_count": 21,
   "metadata": {},
   "outputs": [
    {
     "name": "stdout",
     "output_type": "stream",
     "text": [
      "0\n",
      "after increment :4\n",
      "after reset :0\n"
     ]
    }
   ],
   "source": [
    "a = User('Zhang','Sna',sex='Male',age='20')\n",
    "print(a.login_attempts)\n",
    "a.increment_login_attempts()\n",
    "a.increment_login_attempts()\n",
    "a.increment_login_attempts()\n",
    "a.increment_login_attempts()\n",
    "print('after increment :' + str(a.login_attempts))\n",
    "a.reset_login_attempts()\n",
    "print('after reset :' + str(a.login_attempts))"
   ]
  },
  {
   "cell_type": "code",
   "execution_count": 25,
   "metadata": {
    "collapsed": true
   },
   "outputs": [],
   "source": [
    "#9-6  Restaurant  见9-4\n",
    "class IceCreamStand(Restaurant):\n",
    "    \"\"\"冰淇淋小店\"\"\"\n",
    "    def __init__(self,restaurant_name,cuisine_type):\n",
    "        \"\"\"初始化\"\"\"\n",
    "        super().__init__(restaurant_name,cuisine_type)\n",
    "        self.falvors=['草莓','牛奶','香草']\n",
    "    \n",
    "    def show_falvors(self):\n",
    "        \"\"\"展示口味\"\"\"\n",
    "        print('展示口味-----')\n",
    "        print(self.falvors)       "
   ]
  },
  {
   "cell_type": "code",
   "execution_count": 27,
   "metadata": {},
   "outputs": [
    {
     "name": "stdout",
     "output_type": "stream",
     "text": [
      "展示口味-----\n",
      "['草莓', '牛奶', '香草']\n"
     ]
    }
   ],
   "source": [
    "ice = IceCreamStand('kfc','fastfood')\n",
    "ice.show_falvors()"
   ]
  },
  {
   "cell_type": "code",
   "execution_count": 30,
   "metadata": {
    "collapsed": true
   },
   "outputs": [],
   "source": [
    "#9-7 User 9-5\n",
    "class Admin(User):\n",
    "    \"\"\"管理员类\"\"\"\n",
    "    def __init__(self,first_name,last_name,**usr_info):\n",
    "        \"\"\"初始化\"\"\"\n",
    "        super().__init__(first_name,last_name,**usr_info) ### **user_info???\n",
    "        self.privileges=['can add post','can delete post']\n",
    "    \n",
    "    def show_privileges(self):\n",
    "        \"\"\"展示特权\"\"\"\n",
    "        print(self.privileges)"
   ]
  },
  {
   "cell_type": "code",
   "execution_count": 32,
   "metadata": {},
   "outputs": [
    {
     "name": "stdout",
     "output_type": "stream",
     "text": [
      "['can add post', 'can delete post']\n",
      "describe user-------\n",
      "first_name: Zhang\n",
      "last_name: Sna\n",
      "sex: Male\n",
      "age: 20\n"
     ]
    }
   ],
   "source": [
    "admin = Admin('Zhang','Sna',sex='Male',age='20')\n",
    "admin.show_privileges()\n",
    "admin.describe_user()"
   ]
  },
  {
   "cell_type": "code",
   "execution_count": 33,
   "metadata": {
    "collapsed": true
   },
   "outputs": [],
   "source": [
    "#9-8\n",
    "class Privileges():\n",
    "    \"\"\"特权类\"\"\"\n",
    "    def __init__(self):\n",
    "        self.privileges=['can add post','can delete post']\n",
    "        \n",
    "    def show_privileges(self):\n",
    "        \"\"\"展示特权\"\"\"\n",
    "        print(self.privileges)\n",
    "\n",
    "class Admin(User):\n",
    "    \"\"\"管理员类\"\"\"\n",
    "    def __init__(self,first_name,last_name,**usr_info):\n",
    "        \"\"\"初始化\"\"\"\n",
    "        super().__init__(first_name,last_name,**usr_info) ### **user_info???\n",
    "        self.privileges=Privileges()"
   ]
  },
  {
   "cell_type": "code",
   "execution_count": 34,
   "metadata": {},
   "outputs": [
    {
     "name": "stdout",
     "output_type": "stream",
     "text": [
      "['can add post', 'can delete post']\n"
     ]
    }
   ],
   "source": [
    "admin = Admin('li','Si',sex='Male',age='20')\n",
    "admin.privileges.show_privileges()"
   ]
  },
  {
   "cell_type": "code",
   "execution_count": 35,
   "metadata": {
    "collapsed": true
   },
   "outputs": [],
   "source": [
    "#9-9 electic_car\n",
    "class Car():\n",
    "    \"\"\"模拟汽车\"\"\"\n",
    "    def __init__(self, make, model, year):\n",
    "        self.make = make\n",
    "        self.model = model\n",
    "        self.year = year\n",
    "        self.odometer_reading = 0\n",
    "\n",
    "class Battery():\n",
    "    \"\"\"电池\"\"\"\n",
    "    def __init__(self, battery_size=70):\n",
    "        self.battery_size = battery_size\n",
    "        \n",
    "    \n",
    "    def describe_battery(self):\n",
    "        print(str(self.battery_size))\n",
    "    def upgrade_battery(self):\n",
    "        if self.battery_size!=85:\n",
    "            self.battery_size = 85\n",
    "    def get_range(self):\n",
    "        if self.battery_size == 70:\n",
    "            range = 240\n",
    "        elif self.battery_size == 85:\n",
    "            range = 270\n",
    "        message = 'this car can go '+ str(range) + ' with full charge'\n",
    "        print(message)\n",
    "        \n",
    "class Electricar(Car):\n",
    "    def __init__(self, make, model, year):\n",
    "        super().__init__(make, model, year)\n",
    "        self.battery = Battery()"
   ]
  },
  {
   "cell_type": "code",
   "execution_count": 38,
   "metadata": {},
   "outputs": [
    {
     "name": "stdout",
     "output_type": "stream",
     "text": [
      "this car can go 240 with full charge\n",
      "升级=----\n",
      "this car can go 270 with full charge\n"
     ]
    }
   ],
   "source": [
    "mycar = Electricar('Tesla','model s',2016)\n",
    "mycar.battery.get_range()\n",
    "print('升级=----')\n",
    "mycar.battery.upgrade_battery()\n",
    "mycar.battery.get_range()"
   ]
  },
  {
   "cell_type": "code",
   "execution_count": 39,
   "metadata": {},
   "outputs": [
    {
     "name": "stdout",
     "output_type": "stream",
     "text": [
      "describe restaurant______\n",
      "name: Haidilao\n",
      "type: 火锅\n"
     ]
    }
   ],
   "source": [
    "#9-10\n",
    "from restaurant import Restaurant\n",
    "r1 = Restaurant('Haidilao','火锅')\n",
    "r1.describe_restaurant()"
   ]
  },
  {
   "cell_type": "code",
   "execution_count": 41,
   "metadata": {},
   "outputs": [
    {
     "name": "stdout",
     "output_type": "stream",
     "text": [
      "['can add people', 'can delete post']\n"
     ]
    }
   ],
   "source": [
    "#9-11\n",
    "from user import Admin\n",
    "admin = Admin('wang','wu',sex='Male',age='28')\n",
    "admin.privileges.show_privileges()"
   ]
  },
  {
   "cell_type": "code",
   "execution_count": 42,
   "metadata": {},
   "outputs": [
    {
     "name": "stdout",
     "output_type": "stream",
     "text": [
      "['can add people', 'can delete people']\n"
     ]
    }
   ],
   "source": [
    "#9-12\n",
    "from admin import Admin\n",
    "admin = Admin('wang','wu',sex='Male',age='28')\n",
    "admin.privileges.show_privileges()"
   ]
  },
  {
   "cell_type": "code",
   "execution_count": 44,
   "metadata": {},
   "outputs": [
    {
     "name": "stdout",
     "output_type": "stream",
     "text": [
      "list : 列表\n",
      "dict : 字典\n",
      "if : 条件\n",
      "python : 语言\n"
     ]
    }
   ],
   "source": [
    "#9-13\n",
    "from collections import OrderedDict\n",
    "wordlist = OrderedDict()\n",
    "wordlist['list'] = '列表'\n",
    "wordlist['dict'] = '字典'\n",
    "wordlist['if'] = '条件'\n",
    "wordlist['python'] = '语言'\n",
    "for key,value in wordlist.items():  # 要items才可以\n",
    "    print(key+ ' : ' +value)"
   ]
  },
  {
   "cell_type": "code",
   "execution_count": 49,
   "metadata": {},
   "outputs": [
    {
     "name": "stdout",
     "output_type": "stream",
     "text": [
      "你投的骰子为：2\n",
      "你投的骰子为：5\n",
      "你投的骰子为：5\n",
      "你投的骰子为：1\n",
      "你投的骰子为：3\n",
      "你投的骰子为：2\n",
      "你投的骰子为：2\n",
      "你投的骰子为：1\n",
      "你投的骰子为：6\n",
      "你投的骰子为：2\n"
     ]
    }
   ],
   "source": [
    "#9-14\n",
    "from random import randint\n",
    "class Die():\n",
    "    \"\"\"掷骰子\"\"\"\n",
    "    def __init__(self, sides=6):\n",
    "        self.sides = sides\n",
    "    def roll_die(self):\n",
    "        \"\"\"掷骰子\"\"\"\n",
    "        ran = randint(1,self.sides)\n",
    "        print('你投的骰子为：' + str(ran))\n",
    "t = Die()\n",
    "for i in range(0,10):\n",
    "    t.roll_die()"
   ]
  },
  {
   "cell_type": "code",
   "execution_count": null,
   "metadata": {
    "collapsed": true
   },
   "outputs": [],
   "source": [
    "#9-15 查看 标准库文档 \n",
    "类命名采用驼峰式，实例模块为小写加下划线\n",
    "标准库import在前，加一行空行，自己编写的库导入在后"
   ]
  }
 ],
 "metadata": {
  "kernelspec": {
   "display_name": "Python 3",
   "language": "python",
   "name": "python3"
  },
  "language_info": {
   "codemirror_mode": {
    "name": "ipython",
    "version": 3
   },
   "file_extension": ".py",
   "mimetype": "text/x-python",
   "name": "python",
   "nbconvert_exporter": "python",
   "pygments_lexer": "ipython3",
   "version": "3.6.1"
  }
 },
 "nbformat": 4,
 "nbformat_minor": 2
}
