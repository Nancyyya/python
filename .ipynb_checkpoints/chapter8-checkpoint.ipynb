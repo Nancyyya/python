{
 "cells": [
  {
   "cell_type": "code",
   "execution_count": 2,
   "metadata": {},
   "outputs": [
    {
     "name": "stdout",
     "output_type": "stream",
     "text": [
      "learn how to define a function!\n"
     ]
    }
   ],
   "source": [
    "#函数\n",
    "#8-1\n",
    "def display_message():\n",
    "    \"\"\"显示本章学习的内容\"\"\"\n",
    "    print('learn how to define a function!')\n",
    "display_message()"
   ]
  },
  {
   "cell_type": "code",
   "execution_count": 3,
   "metadata": {},
   "outputs": [
    {
     "name": "stdout",
     "output_type": "stream",
     "text": [
      "One of my favourite books is Understanding The Jvm\n"
     ]
    }
   ],
   "source": [
    "#8-2\n",
    "def favourite_book(title):\n",
    "    \"\"\"显示最喜欢的一本书\"\"\"\n",
    "    print('One of my favourite books is ' + title.title())\n",
    "favourite_book('understanding the jvm')"
   ]
  },
  {
   "cell_type": "code",
   "execution_count": 4,
   "metadata": {},
   "outputs": [
    {
     "name": "stdout",
     "output_type": "stream",
     "text": [
      "You want a xl T-shirt with word \"impossilbe is nothing\"\n"
     ]
    }
   ],
   "source": [
    "#8-3\n",
    "def make_shirt(size,word):\n",
    "    \"\"\"显示要做的t恤的尺码和字样\"\"\"\n",
    "    print('You want a ' + size +' T-shirt ' + 'with word \\\"' + word +'\\\"')\n",
    "make_shirt('xl','impossilbe is nothing')"
   ]
  },
  {
   "cell_type": "code",
   "execution_count": 7,
   "metadata": {},
   "outputs": [
    {
     "name": "stdout",
     "output_type": "stream",
     "text": [
      "You want a L T-shirt with word \"I love python\"\n",
      "You want a M T-shirt with word \"I love python\"\n",
      "You want a S T-shirt with word \"I love china\"\n"
     ]
    }
   ],
   "source": [
    "#8-4\n",
    "def make_shirt(size,word='I love python'):\n",
    "    \"\"\"显示要做的t恤的尺码和字样 默认参数，先放不默认的参数值\"\"\"\n",
    "    print('You want a ' + size +' T-shirt ' + 'with word \\\"' + word +'\\\"')\n",
    "make_shirt(size='L')\n",
    "make_shirt(size='M')\n",
    "make_shirt(size='S',word='I love china')"
   ]
  },
  {
   "cell_type": "code",
   "execution_count": 8,
   "metadata": {},
   "outputs": [
    {
     "name": "stdout",
     "output_type": "stream",
     "text": [
      "Nanjing is in China\n",
      "Shenzhen is in China\n",
      "New York is in America\n"
     ]
    }
   ],
   "source": [
    "#8-5\n",
    "def describe_city(city_name,country='China'): #指定默认值等号左右不要加空格\n",
    "    \"\"\"显示城市所属国家\"\"\"\n",
    "    print(city_name.title() + ' is in ' + country.title())\n",
    "describe_city('nanjing')\n",
    "describe_city(city_name='shenzhen')\n",
    "describe_city(city_name='new york',country='America')"
   ]
  },
  {
   "cell_type": "code",
   "execution_count": 10,
   "metadata": {},
   "outputs": [
    {
     "name": "stdout",
     "output_type": "stream",
     "text": [
      "Beijing , China\n",
      "Santiago , Chile\n",
      "Shenzhen , China\n"
     ]
    }
   ],
   "source": [
    "#8-6\n",
    "def city_country(city_name,country='China'):\n",
    "    \"\"\"显示城市所属国家\"\"\"\n",
    "    return city_name.title() + ' , ' + country.title()\n",
    "print(city_country('beijing'))\n",
    "print(city_country('santiago','chile'))\n",
    "print(city_country(city_name='SHENZHEN',country='china'))"
   ]
  },
  {
   "cell_type": "code",
   "execution_count": 11,
   "metadata": {},
   "outputs": [
    {
     "name": "stdout",
     "output_type": "stream",
     "text": [
      "{'singer': 'Zhoujielun', 'album': '半岛铁盒'}\n",
      "{'singer': 'Linjunjie', 'album': '江南'}\n",
      "{'singer': 'She', 'album': '不想长大'}\n"
     ]
    }
   ],
   "source": [
    "#8-7\n",
    "def make_album(singer,album):\n",
    "    \"\"\"描述音乐专辑\"\"\"\n",
    "    alb ={'singer':singer.title(),'album':album.title()}\n",
    "    return alb\n",
    "print(make_album('zhoujielun','半岛铁盒'))\n",
    "print(make_album('linjunjie','江南'))\n",
    "print(make_album('SHE','不想长大'))"
   ]
  },
  {
   "cell_type": "code",
   "execution_count": 14,
   "metadata": {},
   "outputs": [
    {
     "name": "stdout",
     "output_type": "stream",
     "text": [
      "{'singer': 'Zhoujielun', 'album': '半岛铁盒', 'nums': 10}\n",
      "{'singer': 'Linjunjie', 'album': '江南', 'nums': '9'}\n",
      "{'singer': 'She', 'album': '不想长大'}\n"
     ]
    }
   ],
   "source": [
    "def make_album(singer,album,nums=''):\n",
    "    \"\"\"描述音乐专辑\"\"\"\n",
    "    alb ={'singer':singer.title(),'album':album.title()}\n",
    "    if nums:\n",
    "        alb['nums']=nums\n",
    "    return alb\n",
    "print(make_album('zhoujielun','半岛铁盒',10))\n",
    "print(make_album('linjunjie','江南','9'))#不区分类型？？\n",
    "print(make_album('SHE','不想长大'))"
   ]
  },
  {
   "cell_type": "code",
   "execution_count": 19,
   "metadata": {
    "collapsed": true
   },
   "outputs": [
    {
     "name": "stdout",
     "output_type": "stream",
     "text": [
      "input the singer and his album\n",
      "input \"q\" to stop:\n",
      "singer name:aaa\n",
      "album name:111\n",
      "\n",
      "{'singer': 'Aaa', 'album': '111'}\n",
      "\n",
      "input the singer and his album\n",
      "input \"q\" to stop:\n",
      "singer name:fdad\n",
      "album name:ddd\n",
      "\n",
      "{'singer': 'Fdad', 'album': 'Ddd'}\n",
      "\n",
      "input the singer and his album\n",
      "input \"q\" to stop:\n",
      "singer name:12\n",
      "album name:q\n"
     ]
    }
   ],
   "source": [
    "#8-8\n",
    "while True:\n",
    "    prompt = 'input the singer and his album\\n'\n",
    "    prompt += 'input \\\"q\\\" to stop:\\n'\n",
    "    singer=input(prompt+'singer name:') #提示不会乱序\n",
    "    if singer=='q':\n",
    "        break\n",
    "    album=input('album name:')\n",
    "    if album=='q':\n",
    "        break\n",
    "    finish_album = make_album(singer,album)\n",
    "    print()\n",
    "    print(finish_album)\n",
    "    print()"
   ]
  },
  {
   "cell_type": "code",
   "execution_count": 20,
   "metadata": {},
   "outputs": [
    {
     "name": "stdout",
     "output_type": "stream",
     "text": [
      "Tmo\n",
      "Liy\n",
      "Damon\n"
     ]
    }
   ],
   "source": [
    "#8-9\n",
    "def show_magicians(magicians):\n",
    "    \"\"\"show magicians names\"\"\"\n",
    "    for name in magicians:\n",
    "        print(name.title())\n",
    "mags = ['TMO','Liy','DAMon']\n",
    "show_magicians(mags)"
   ]
  },
  {
   "cell_type": "code",
   "execution_count": 21,
   "metadata": {},
   "outputs": [
    {
     "name": "stdout",
     "output_type": "stream",
     "text": [
      "The Great Tmo\n",
      "The Great Liy\n",
      "The Great Damon\n"
     ]
    }
   ],
   "source": [
    "#8-10\n",
    "def make_great(mags): #参数的修改会带回\n",
    "    \"\"\"修改mags 会带回去\"\"\"\n",
    "    for i in range(0,len(mags)):\n",
    "        mags[i]='The Great '+ mags[i]\n",
    "mags = ['TMO','Liy','DAMon']\n",
    "make_great(mags)\n",
    "show_magicians(mags)        \n",
    "    "
   ]
  },
  {
   "cell_type": "code",
   "execution_count": 24,
   "metadata": {
    "collapsed": true
   },
   "outputs": [
    {
     "name": "stdout",
     "output_type": "stream",
     "text": [
      "the origin mags---------\n",
      "Tmo\n",
      "Liy\n",
      "Damon\n",
      "after great mags---------\n",
      "The Great Tmo\n",
      "The Great Liy\n",
      "The Great Damon\n"
     ]
    }
   ],
   "source": [
    "#8-11\n",
    "def show_magicians(magicians):\n",
    "    \"\"\"show magicians names\"\"\"\n",
    "    for name in magicians:\n",
    "        print(name.title())\n",
    "def make_great(mags):\n",
    "    \"\"\"修改mags 会带回去\"\"\"\n",
    "    for i in range(0,len(mags)):\n",
    "        mags[i]='The Great '+ mags[i]\n",
    "    return mags\n",
    "mags = ['TMO','Liy','DAMon']\n",
    "greatmag = make_great(mags[:])#尽量不要传递副本，额外的开销影响效率\n",
    "print('the origin mags---------')\n",
    "show_magicians(mags)  \n",
    "print('after great mags---------')\n",
    "show_magicians(greatmag)  "
   ]
  },
  {
   "cell_type": "code",
   "execution_count": 25,
   "metadata": {},
   "outputs": [
    {
     "name": "stdout",
     "output_type": "stream",
     "text": [
      "need to add :\n",
      "('pork', 'egg')\n",
      "need to add :\n",
      "('pork',)\n",
      "need to add :\n",
      "('pork', 'chicken', 'onion')\n"
     ]
    }
   ],
   "source": [
    "#8-12 传递任意数量的【实参】 * 元组\n",
    "def sandwich(*toppings):\n",
    "    \"\"\"展示要填到三明治中的材料\"\"\"\n",
    "    print('need to add :')\n",
    "    print(toppings)\n",
    "sandwich('pork','egg')\n",
    "sandwich('pork')\n",
    "sandwich('pork','chicken','onion')"
   ]
  },
  {
   "cell_type": "code",
   "execution_count": 26,
   "metadata": {},
   "outputs": [
    {
     "name": "stdout",
     "output_type": "stream",
     "text": [
      "{'first_name': 'Nancy', 'last_name': 'Wang', 'age': 20, 'sex': 'female', 'birth': 'linyi'}\n"
     ]
    }
   ],
   "source": [
    "#8-13 任意数量的【关键字实参】 ** 字典\n",
    "def build_profile(first,last,**usr_info):\n",
    "    \"\"\"**字典 任意数量的实参关键字\"\"\"\n",
    "    profile={}\n",
    "    profile['first_name']=first.title()\n",
    "    profile['last_name']=last.title()\n",
    "    for key,value in usr_info.items():\n",
    "        profile[key]=value\n",
    "    return profile\n",
    "me = build_profile('Nancy','Wang',age=20,sex='female',birth='linyi') #!!!!!注意传参的格式\n",
    "print(me)"
   ]
  },
  {
   "cell_type": "code",
   "execution_count": 27,
   "metadata": {},
   "outputs": [
    {
     "name": "stdout",
     "output_type": "stream",
     "text": [
      "{'maker': 'Subaru', 'typeinfo': 'outback', 'color': 'blue', 'tow_package': True}\n"
     ]
    }
   ],
   "source": [
    "#8-14\n",
    "def make_car(maker,typeinfo,**otherinfo):\n",
    "    \"\"\"接受制造商、型号和关键字实参\"\"\"\n",
    "    car={}\n",
    "    car['maker']=maker.title()\n",
    "    car['typeinfo']=typeinfo\n",
    "    for key,val in otherinfo.items():\n",
    "        car[key]=val\n",
    "    return car\n",
    "car = make_car('subaru','outback',color='blue',tow_package=True)\n",
    "print(car)"
   ]
  },
  {
   "cell_type": "markdown",
   "metadata": {},
   "source": [
    "模块是扩展名为.py的文件\n",
    "函数名：小写字母加下划线\n",
    "#指定默认值等号左右不要加空格"
   ]
  },
  {
   "cell_type": "code",
   "execution_count": 30,
   "metadata": {},
   "outputs": [
    {
     "name": "stdout",
     "output_type": "stream",
     "text": [
      "printing model:cake\n",
      "printing model:robot\n",
      "printing model:iphone\n",
      "show all models:\n",
      "show all models:\n",
      "cake\n",
      "robot\n",
      "iphone\n"
     ]
    }
   ],
   "source": [
    "#8-15\n",
    "import printing_functions as pf\n",
    "unprint=['iphone','robot','cake']\n",
    "complete=[]\n",
    "pf.print_models(unprint,complete)\n",
    "pf.show_models(unprint)\n",
    "pf.show_models(complete)"
   ]
  },
  {
   "cell_type": "code",
   "execution_count": 31,
   "metadata": {},
   "outputs": [
    {
     "name": "stdout",
     "output_type": "stream",
     "text": [
      "printing model:cake\n",
      "printing model:robot\n",
      "printing model:iphone\n",
      "show all models:\n",
      "cake\n",
      "robot\n",
      "iphone\n"
     ]
    }
   ],
   "source": [
    "#8-16 import\n",
    "import printing_functions\n",
    "unprint=['iphone','robot','cake']\n",
    "complete=[]\n",
    "printing_functions.print_models(unprint,complete)\n",
    "printing_functions.show_models(complete)"
   ]
  },
  {
   "cell_type": "code",
   "execution_count": 33,
   "metadata": {},
   "outputs": [
    {
     "name": "stdout",
     "output_type": "stream",
     "text": [
      "printing model:cake\n",
      "printing model:robot\n",
      "printing model:iphone\n",
      "show all models:\n",
      "cake\n",
      "robot\n",
      "iphone\n"
     ]
    }
   ],
   "source": [
    "from printing_functions import print_models,show_models\n",
    "unprint=['iphone','robot','cake']\n",
    "complete=[]\n",
    "print_models(unprint,complete)\n",
    "show_models(complete)"
   ]
  },
  {
   "cell_type": "code",
   "execution_count": 34,
   "metadata": {},
   "outputs": [
    {
     "name": "stdout",
     "output_type": "stream",
     "text": [
      "printing model:cake\n",
      "printing model:robot\n",
      "printing model:iphone\n",
      "show all models:\n",
      "cake\n",
      "robot\n",
      "iphone\n"
     ]
    }
   ],
   "source": [
    "from printing_functions import print_models as pm,show_models as sm\n",
    "unprint=['iphone','robot','cake']\n",
    "complete=[]\n",
    "pm(unprint,complete)\n",
    "sm(complete)"
   ]
  },
  {
   "cell_type": "code",
   "execution_count": 35,
   "metadata": {},
   "outputs": [
    {
     "name": "stdout",
     "output_type": "stream",
     "text": [
      "printing model:cake\n",
      "printing model:robot\n",
      "printing model:iphone\n",
      "show all models:\n",
      "cake\n",
      "robot\n",
      "iphone\n"
     ]
    }
   ],
   "source": [
    "import printing_functions as pf\n",
    "unprint=['iphone','robot','cake']\n",
    "complete=[]\n",
    "pf.print_models(unprint,complete)\n",
    "pf.show_models(complete)"
   ]
  },
  {
   "cell_type": "code",
   "execution_count": 39,
   "metadata": {},
   "outputs": [
    {
     "name": "stdout",
     "output_type": "stream",
     "text": [
      "printing model:cake\n",
      "printing model:robot\n",
      "printing model:iphone\n",
      "show all models:\n",
      "cake\n",
      "robot\n",
      "iphone\n"
     ]
    }
   ],
   "source": [
    "from printing_functions import * \n",
    "unprint=['iphone','robot','cake']\n",
    "complete=[]\n",
    "print_models(unprint,complete)\n",
    "show_models(complete)"
   ]
  },
  {
   "cell_type": "markdown",
   "metadata": {},
   "source": [
    "#8-17\n",
    "给函数描述性命名，只能用小写字母和下划线\n",
    "每个函数应该包含注释，紧跟在函数定义之后\n",
    "形参默认值，等号两边不要空格，实参关键字等号后也不要\n",
    "一行不超过79字符\n",
    "模块文件中 两个函数之间加一个空行，明确看到函数结束和开始\n",
    "import在文件前面，除去注释。"
   ]
  }
 ],
 "metadata": {
  "kernelspec": {
   "display_name": "Python 3",
   "language": "python",
   "name": "python3"
  },
  "language_info": {
   "codemirror_mode": {
    "name": "ipython",
    "version": 3
   },
   "file_extension": ".py",
   "mimetype": "text/x-python",
   "name": "python",
   "nbconvert_exporter": "python",
   "pygments_lexer": "ipython3",
   "version": "3.6.1"
  }
 },
 "nbformat": 4,
 "nbformat_minor": 2
}
