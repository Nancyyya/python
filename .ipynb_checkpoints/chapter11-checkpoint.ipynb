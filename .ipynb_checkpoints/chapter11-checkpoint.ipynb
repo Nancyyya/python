{
 "cells": [
  {
   "cell_type": "code",
   "execution_count": 8,
   "metadata": {
    "collapsed": true
   },
   "outputs": [],
   "source": [
    "#11 测试\n",
    "#11-1  !!!! jupyter执行 unittest报错，参考：https://blog.csdn.net/qq_42702821/article/details/88614718\n",
    "import unittest\n",
    "def city_country(city,country):\n",
    "    cstr = city.title() + ',' + country.title()\n",
    "    return cstr"
   ]
  },
  {
   "cell_type": "code",
   "execution_count": 11,
   "metadata": {},
   "outputs": [
    {
     "name": "stderr",
     "output_type": "stream",
     "text": [
      "test_city_country (__main__.CityTestCase) ... ok\n",
      "\n",
      "----------------------------------------------------------------------\n",
      "Ran 1 test in 0.003s\n",
      "\n",
      "OK\n"
     ]
    },
    {
     "data": {
      "text/plain": [
       "<unittest.main.TestProgram at 0x102664438>"
      ]
     },
     "execution_count": 11,
     "metadata": {},
     "output_type": "execute_result"
    }
   ],
   "source": [
    "class CityTestCase(unittest.TestCase):\n",
    "    \"\"\"测试city country\"\"\"\n",
    "    def test_city_country(self):\n",
    "        cstr = city_country('santiago','chile')\n",
    "        self.assertEqual(cstr,'Santiago,Chile')\n",
    "unittest.main(argv=['ignored', '-v'], exit=False)"
   ]
  },
  {
   "cell_type": "code",
   "execution_count": 5,
   "metadata": {},
   "outputs": [
    {
     "data": {
      "text/plain": [
       "'Santiago , Chile'"
      ]
     },
     "execution_count": 5,
     "metadata": {},
     "output_type": "execute_result"
    }
   ],
   "source": [
    "city_country('santiago','chile')"
   ]
  },
  {
   "cell_type": "code",
   "execution_count": 17,
   "metadata": {},
   "outputs": [
    {
     "name": "stderr",
     "output_type": "stream",
     "text": [
      "test_city_country (__main__.CityTestCase) ... ERROR\n",
      "\n",
      "======================================================================\n",
      "ERROR: test_city_country (__main__.CityTestCase)\n",
      "----------------------------------------------------------------------\n",
      "Traceback (most recent call last):\n",
      "  File \"<ipython-input-17-1d7f2fa944e8>\", line 13, in test_city_country\n",
      "    cstr = city_country('santiago','chile')\n",
      "TypeError: city_country() missing 1 required positional argument: 'population'\n",
      "\n",
      "----------------------------------------------------------------------\n",
      "Ran 1 test in 0.003s\n",
      "\n",
      "FAILED (errors=1)\n"
     ]
    },
    {
     "data": {
      "text/plain": [
       "<unittest.main.TestProgram at 0x102669ac8>"
      ]
     },
     "execution_count": 17,
     "metadata": {},
     "output_type": "execute_result"
    }
   ],
   "source": [
    "#11-2\n",
    "import unittest\n",
    "def city_country(city,country,population):\n",
    "    if population:\n",
    "        cstr = city.title() + ',' + country.title()+' - ' + population\n",
    "    else:\n",
    "        cstr = city.title() + ',' + country.title()\n",
    "    return cstr\n",
    "\n",
    "class CityTestCase(unittest.TestCase):\n",
    "    \"\"\"测试city country\"\"\"\n",
    "    def test_city_country(self):\n",
    "        cstr = city_country('santiago','chile')\n",
    "        self.assertEqual(cstr,'Santiago,Chile')\n",
    "unittest.main(argv=['ignored', '-v'], exit=False)"
   ]
  },
  {
   "cell_type": "code",
   "execution_count": 18,
   "metadata": {},
   "outputs": [
    {
     "name": "stderr",
     "output_type": "stream",
     "text": [
      "test_city_country (__main__.CityTestCase) ... ok\n",
      "\n",
      "----------------------------------------------------------------------\n",
      "Ran 1 test in 0.002s\n",
      "\n",
      "OK\n"
     ]
    },
    {
     "data": {
      "text/plain": [
       "<unittest.main.TestProgram at 0x10268b908>"
      ]
     },
     "execution_count": 18,
     "metadata": {},
     "output_type": "execute_result"
    }
   ],
   "source": [
    "import unittest\n",
    "def city_country(city,country,population=''):\n",
    "    if population:\n",
    "        cstr = city.title() + ',' + country.title()+' - ' + population\n",
    "    else:\n",
    "        cstr = city.title() + ',' + country.title()\n",
    "    return cstr\n",
    "\n",
    "class CityTestCase(unittest.TestCase):\n",
    "    \"\"\"测试city country\"\"\"\n",
    "    def test_city_country(self):\n",
    "        cstr = city_country('santiago','chile')\n",
    "        self.assertEqual(cstr,'Santiago,Chile')\n",
    "unittest.main(argv=['ignored', '-v'], exit=False)"
   ]
  },
  {
   "cell_type": "code",
   "execution_count": 23,
   "metadata": {},
   "outputs": [
    {
     "name": "stderr",
     "output_type": "stream",
     "text": [
      "test_city_country (__main__.CityTestCase) ... ok\n",
      "\n",
      "----------------------------------------------------------------------\n",
      "Ran 1 test in 0.003s\n",
      "\n",
      "OK\n"
     ]
    },
    {
     "data": {
      "text/plain": [
       "<unittest.main.TestProgram at 0x10268b278>"
      ]
     },
     "execution_count": 23,
     "metadata": {},
     "output_type": "execute_result"
    }
   ],
   "source": [
    "import unittest\n",
    "def city_country(city,country,population=''):\n",
    "    if population:\n",
    "        cstr = city.title() + ',' + country.title()+' - ' + population\n",
    "    else:\n",
    "        cstr = city.title() + ',' + country.title()\n",
    "    return cstr\n",
    "\n",
    "class CityTestCase(unittest.TestCase):\n",
    "    \"\"\"测试city country\"\"\"\n",
    "    def test_city_country(self):\n",
    "        cstr = city_country('santiago','chile',population = '5000000')\n",
    "        self.assertEqual(cstr,'Santiago,Chile - 5000000')\n",
    "unittest.main(argv=['ignored', '-v'], exit=False)"
   ]
  },
  {
   "cell_type": "code",
   "execution_count": 9,
   "metadata": {
    "collapsed": true
   },
   "outputs": [],
   "source": [
    "#11-3\n",
    "class Employee():\n",
    "    \"\"\"员工类\"\"\"\n",
    "    def __init__(self,first_name,last_name,salary):\n",
    "        self.first_name = first_name\n",
    "        self.last_name = last_name\n",
    "        self.salary = salary\n",
    "    def give_raise(self,raisevaule=5000):\n",
    "        self.salary+=raisevaule"
   ]
  },
  {
   "cell_type": "code",
   "execution_count": 10,
   "metadata": {},
   "outputs": [],
   "source": [
    "import unittest\n",
    "class TestEmployee(unittest.TestCase):\n",
    "    def setUp(self):\n",
    "        self.raival = 30000\n",
    "        self.emp = Employee('zhang','san',10000)\n",
    "    def test_give_default_raise(self):\n",
    "        self.emp.give_raise()\n",
    "        self.assertEqual(self.emp.salary,15000)\n",
    "    def test_give_custom_raise(self):\n",
    "        self.emp.give_raise(self.raival)  #self.\n",
    "        self.assertEqual(self.emp.salary,40000)"
   ]
  },
  {
   "cell_type": "code",
   "execution_count": 11,
   "metadata": {},
   "outputs": [
    {
     "name": "stderr",
     "output_type": "stream",
     "text": [
      "test_give_custom_raise (__main__.TestEmployee) ... ok\n",
      "test_give_default_raise (__main__.TestEmployee) ... ok\n",
      "\n",
      "----------------------------------------------------------------------\n",
      "Ran 2 tests in 0.004s\n",
      "\n",
      "OK\n"
     ]
    },
    {
     "data": {
      "text/plain": [
       "<unittest.main.TestProgram at 0x105f82278>"
      ]
     },
     "execution_count": 11,
     "metadata": {},
     "output_type": "execute_result"
    }
   ],
   "source": [
    "unittest.main(argv=['ignored', '-v'], exit=False)     "
   ]
  },
  {
   "cell_type": "code",
   "execution_count": null,
   "metadata": {
    "collapsed": true
   },
   "outputs": [],
   "source": []
  }
 ],
 "metadata": {
  "kernelspec": {
   "display_name": "Python 3",
   "language": "python",
   "name": "python3"
  },
  "language_info": {
   "codemirror_mode": {
    "name": "ipython",
    "version": 3
   },
   "file_extension": ".py",
   "mimetype": "text/x-python",
   "name": "python",
   "nbconvert_exporter": "python",
   "pygments_lexer": "ipython3",
   "version": "3.6.1"
  }
 },
 "nbformat": 4,
 "nbformat_minor": 2
}
