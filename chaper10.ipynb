{
 "cells": [
  {
   "cell_type": "code",
   "execution_count": 21,
   "metadata": {},
   "outputs": [
    {
     "name": "stdout",
     "output_type": "stream",
     "text": [
      "In python you can process list\n",
      "In python you can process dict\n",
      "In python you can define a class\n",
      "In python you can define a function\n"
     ]
    }
   ],
   "source": [
    "#10 文件和异常\n",
    "#10-1 读文件\n",
    "#open 参数 默认只读 r，w写，a追加，r+可读可写\n",
    "with open('chapter10/learning_python.txt') as file_object: # with 让python妥善打开和关闭文件\n",
    "    info = file_object.read()\n",
    "    print(info)"
   ]
  },
  {
   "cell_type": "code",
   "execution_count": 22,
   "metadata": {},
   "outputs": [
    {
     "name": "stdout",
     "output_type": "stream",
     "text": [
      "In python you can process list\n",
      "In python you can process dict\n",
      "In python you can define a class\n",
      "In python you can define a function\n"
     ]
    }
   ],
   "source": [
    "with open('chapter10/learning_python.txt') as file_object:\n",
    "    for line in file_object:\n",
    "        print(line.rstrip())"
   ]
  },
  {
   "cell_type": "code",
   "execution_count": 23,
   "metadata": {},
   "outputs": [
    {
     "name": "stdout",
     "output_type": "stream",
     "text": [
      "In python you can process list\n",
      "In python you can process dict\n",
      "In python you can define a class\n",
      "In python you can define a function\n"
     ]
    }
   ],
   "source": [
    "with open('chapter10/learning_python.txt') as file_object:\n",
    "    lines = file_object.readlines()\n",
    "for line in lines:\n",
    "    print(line.rstrip())"
   ]
  },
  {
   "cell_type": "code",
   "execution_count": 24,
   "metadata": {},
   "outputs": [
    {
     "name": "stdout",
     "output_type": "stream",
     "text": [
      "In C you can process list\n",
      "In C you can process dict\n",
      "In C you can define a class\n",
      "In C you can define a function\n"
     ]
    }
   ],
   "source": [
    "#10-2 replace\n",
    "with open('chapter10/learning_python.txt') as file_object:\n",
    "    lines = file_object.readlines()\n",
    "for line in lines:\n",
    "    print(line.rstrip().replace('python','C'))"
   ]
  },
  {
   "cell_type": "code",
   "execution_count": 25,
   "metadata": {},
   "outputs": [
    {
     "name": "stdout",
     "output_type": "stream",
     "text": [
      "please input your name: sss\n"
     ]
    }
   ],
   "source": [
    "#10-3 文件读取和写入都是string，其他类型需要用str()转换\n",
    "name = input('please input your name: ')\n",
    "with open('chapter10/guest.txt','w') as file_object:\n",
    "    file_object.write(name)"
   ]
  },
  {
   "cell_type": "code",
   "execution_count": 26,
   "metadata": {},
   "outputs": [
    {
     "name": "stdout",
     "output_type": "stream",
     "text": [
      "please input your name: \n",
      "input \"quit\" to stop! hjhjkhjk\n",
      "Welcome Hjhjkhjk\n",
      "please input your name: \n",
      "input \"quit\" to stop! hjhjk\n",
      "Welcome Hjhjk\n",
      "please input your name: \n",
      "input \"quit\" to stop! uuu\n",
      "Welcome Uuu\n",
      "please input your name: \n",
      "input \"quit\" to stop! quit\n"
     ]
    }
   ],
   "source": [
    "#10-4\n",
    "while True:\n",
    "    name = input('please input your name: \\n'+'input \\\"quit\\\" to stop! ')\n",
    "    if name=='quit':\n",
    "        break\n",
    "    print('Welcome ' + name.title())\n",
    "    with open('chapter10/guest_book.txt','a') as file_object:\n",
    "        file_object.write(name.title() + ' is here.\\n')"
   ]
  },
  {
   "cell_type": "code",
   "execution_count": 27,
   "metadata": {},
   "outputs": [
    {
     "name": "stdout",
     "output_type": "stream",
     "text": [
      "why do you like programming?\n",
      "input \"quit\" to stop the program. 及时响应\n",
      "why do you like programming?\n",
      "input \"quit\" to stop the program. 成就感\n",
      "why do you like programming?\n",
      "input \"quit\" to stop the program. 思维\n",
      "why do you like programming?\n",
      "input \"quit\" to stop the program. quit\n"
     ]
    }
   ],
   "source": [
    "#10-5\n",
    "while True:\n",
    "    reason = input('why do you like programming?\\n' + 'input \\\"quit\\\" to stop the program. ')\n",
    "    if reason=='quit':\n",
    "        break\n",
    "    with open('chapter10/reason_of_programming.txt','a') as file_object:\n",
    "        file_object.write(reason + '\\n')"
   ]
  },
  {
   "cell_type": "code",
   "execution_count": 28,
   "metadata": {},
   "outputs": [
    {
     "name": "stdout",
     "output_type": "stream",
     "text": [
      "及时响应\n",
      "成就感\n",
      "思维\n",
      "及时响应\n",
      "成就感\n",
      "思维\n"
     ]
    }
   ],
   "source": [
    "with open('chapter10/reason_of_programming.txt','r') as file_object:\n",
    "    print(file_object.read().rstrip())"
   ]
  },
  {
   "cell_type": "code",
   "execution_count": 19,
   "metadata": {},
   "outputs": [
    {
     "name": "stdout",
     "output_type": "stream",
     "text": [
      "Give me tow numbers, and I'll add them\n",
      "Enter 'q' to stop\n",
      "first numb: a\n",
      "second numb: 2\n",
      "your input is not a number!\n"
     ]
    }
   ],
   "source": [
    "#10-6\n",
    "print(\"Give me tow numbers, and I'll add them\")   \n",
    "a = input('first numb: ')\n",
    "b = input('second numb: ')\n",
    "try:\n",
    "    answer = int(a) + int(b)\n",
    "except ValueError:\n",
    "    print('your input is not a number!')\n",
    "else:\n",
    "    print(answer)"
   ]
  },
  {
   "cell_type": "code",
   "execution_count": 20,
   "metadata": {
    "collapsed": true
   },
   "outputs": [
    {
     "name": "stdout",
     "output_type": "stream",
     "text": [
      "Give me tow numbers, and I'll add them\n",
      "Enter 'q' to stop\n",
      "first numb: a\n",
      "second numb: b\n",
      "your input is not a number!\n",
      "first numb: 1\n",
      "second numb: 2\n",
      "3\n",
      "first numb: 3\n",
      "second numb: 4\n",
      "7\n",
      "first numb: r\n",
      "second numb: \n",
      "your input is not a number!\n",
      "first numb: 1\n",
      "second numb: 2\n",
      "3\n",
      "first numb: 3\n",
      "second numb: r\n",
      "your input is not a number!\n",
      "first numb: 4\n",
      "second numb: q\n"
     ]
    }
   ],
   "source": [
    "#10-7\n",
    "print(\"Give me tow numbers, and I'll add them\")   \n",
    "print(\"Enter 'q' to stop\")\n",
    "while True:\n",
    "    a = input('first numb: ')\n",
    "    if a =='q':\n",
    "        break\n",
    "    b = input('second numb: ')\n",
    "    if b=='q':\n",
    "        break\n",
    "    try:\n",
    "        answer = int(a) + int(b)\n",
    "    except ValueError:\n",
    "        print('your input is not a number!')\n",
    "    else:\n",
    "        print(answer)"
   ]
  },
  {
   "cell_type": "code",
   "execution_count": 32,
   "metadata": {},
   "outputs": [
    {
     "name": "stdout",
     "output_type": "stream",
     "text": [
      "mixiu\n",
      "coco\n",
      "H\n",
      "catA\n",
      "catB\n",
      "catC\n"
     ]
    }
   ],
   "source": [
    "#10-8\n",
    "filenames = ['chapter10/dog.txt','chapter10/cat.txt']\n",
    "for file in filenames:\n",
    "    try:\n",
    "        with open(file,'r') as f_object:\n",
    "            names = f_object.readlines()\n",
    "    except FileNotFoundError:\n",
    "        print('cannot find the file!')\n",
    "    else:\n",
    "        for name in names:\n",
    "            print(name.rstrip())"
   ]
  },
  {
   "cell_type": "code",
   "execution_count": 33,
   "metadata": {},
   "outputs": [
    {
     "name": "stdout",
     "output_type": "stream",
     "text": [
      "catA\n",
      "catB\n",
      "catC\n"
     ]
    }
   ],
   "source": [
    "#10-9 else 在try代码块执行成功后 执行的内容\n",
    "filenames = ['chapter10/dog1.txt','chapter10/cat.txt']\n",
    "for file in filenames:\n",
    "    try:\n",
    "        with open(file,'r') as f_object:\n",
    "            names = f_object.readlines()\n",
    "    except FileNotFoundError:\n",
    "        pass\n",
    "    else:\n",
    "        for name in names:\n",
    "            print(name.rstrip())"
   ]
  },
  {
   "cell_type": "code",
   "execution_count": 35,
   "metadata": {},
   "outputs": [
    {
     "name": "stdout",
     "output_type": "stream",
     "text": [
      "the number of 'the' : 19\n"
     ]
    }
   ],
   "source": [
    "#10-10\n",
    "try:\n",
    "    with open('chapter10/book.txt','r') as f_object:\n",
    "        line = f_object.read()\n",
    "except FileNotFoundError:\n",
    "    print('cannot find the file!')\n",
    "else:\n",
    "    count = line.lower().count('the')\n",
    "    print(\"the number of 'the' : \" + str(count))"
   ]
  },
  {
   "cell_type": "code",
   "execution_count": 36,
   "metadata": {},
   "outputs": [
    {
     "name": "stdout",
     "output_type": "stream",
     "text": [
      "pleas input your favourite number: 2333333\n"
     ]
    }
   ],
   "source": [
    "#10-11 javascript object notation\n",
    "import json\n",
    "num = input(\"pleas input your favourite number: \")\n",
    "with open('chapter10/fnum.txt','w') as f_object:\n",
    "    json.dump(num,f_object)"
   ]
  },
  {
   "cell_type": "code",
   "execution_count": 38,
   "metadata": {},
   "outputs": [
    {
     "name": "stdout",
     "output_type": "stream",
     "text": [
      "I know your favourite number! It is : 2333333\n"
     ]
    }
   ],
   "source": [
    "with open('chapter10/fnum.txt') as f_object:\n",
    "    num = json.load(f_object)\n",
    "    print(\"I know your favourite number! It is :\" + num)"
   ]
  },
  {
   "cell_type": "code",
   "execution_count": 44,
   "metadata": {},
   "outputs": [
    {
     "name": "stdout",
     "output_type": "stream",
     "text": [
      "I know your favourite number! It is :323333\n"
     ]
    }
   ],
   "source": [
    "#10-12\n",
    "import json\n",
    "def get_f_number():\n",
    "    try:\n",
    "        with open('chapter10/fnum.txt') as f_object:\n",
    "            num = json.load(f_object)\n",
    "    except FileNotFoundError:\n",
    "        return None\n",
    "    else:\n",
    "        return num\n",
    "def input_f_number():\n",
    "    num = input(\"pleas input your favourite number: \")\n",
    "    with open('chapter10/fnum.txt','w') as f_object:\n",
    "        json.dump(num,f_object)\n",
    "    return num\n",
    "def progress():\n",
    "    num = get_f_number()\n",
    "    if num:\n",
    "        print(\"I know your favourite number! It is :\" + num)\n",
    "    else:\n",
    "        num = input_f_number()\n",
    "        print(\"Now , I know your favourite number! It is :\" + num)\n",
    "progress()"
   ]
  },
  {
   "cell_type": "code",
   "execution_count": 49,
   "metadata": {},
   "outputs": [
    {
     "name": "stdout",
     "output_type": "stream",
     "text": [
      "Is this is your name:(yes or no)zhangsan\n",
      "no\n",
      "what is your name : feeng\n",
      "we will rember you when you welcome back,feeng\n"
     ]
    }
   ],
   "source": [
    "#10-13\n",
    "import json\n",
    "def get_stored_username():\n",
    "    filename='chapter10/username.json'\n",
    "    try:\n",
    "        with open(filename) as f:\n",
    "            username = json.load(f)\n",
    "    except:\n",
    "        return None\n",
    "    else:\n",
    "        return username\n",
    "def get_new_username():\n",
    "    filename='chapter10/username.json'\n",
    "    username = input('what is your name : ')\n",
    "    with open(filename,'w') as f:\n",
    "        json.dump(username,f)\n",
    "    return username\n",
    "def greet_user():\n",
    "    username = get_stored_username()\n",
    "    if username:\n",
    "        answ = input(\"Is this is your name:(yes or no)\" + username +\"\\n\")\n",
    "        if answ=='yes':\n",
    "            print('welcome back,' + username)\n",
    "        else:\n",
    "            username = get_new_username()\n",
    "            print('we will rember you when you welcome back,' + username)\n",
    "    else:\n",
    "        username = get_new_username()\n",
    "        print('we will rember you when you welcome back,' + username)\n",
    "greet_user()   "
   ]
  },
  {
   "cell_type": "code",
   "execution_count": null,
   "metadata": {
    "collapsed": true
   },
   "outputs": [],
   "source": []
  }
 ],
 "metadata": {
  "kernelspec": {
   "display_name": "Python 3",
   "language": "python",
   "name": "python3"
  },
  "language_info": {
   "codemirror_mode": {
    "name": "ipython",
    "version": 3
   },
   "file_extension": ".py",
   "mimetype": "text/x-python",
   "name": "python",
   "nbconvert_exporter": "python",
   "pygments_lexer": "ipython3",
   "version": "3.6.1"
  }
 },
 "nbformat": 4,
 "nbformat_minor": 2
}
