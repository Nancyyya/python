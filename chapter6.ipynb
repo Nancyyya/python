{
 "cells": [
  {
   "cell_type": "code",
   "execution_count": 6,
   "metadata": {},
   "outputs": [
    {
     "name": "stdout",
     "output_type": "stream",
     "text": [
      "my friends is zhang san\n",
      "he is 10 years old and lives in beijing\n"
     ]
    }
   ],
   "source": [
    "# 列表  6-1\n",
    "friends = {'first_name': 'zhang', 'last_name': 'san', 'age': 10, 'city': 'beijing'}\n",
    "print('my friends is ' + friends['first_name'] + ' ' + friends['last_name'])\n",
    "print('he is ' + str(friends['age']) + ' years old and lives in ' + friends['city'] )"
   ]
  },
  {
   "cell_type": "code",
   "execution_count": 8,
   "metadata": {},
   "outputs": [
    {
     "name": "stdout",
     "output_type": "stream",
     "text": [
      "Tom's favourite number is 5\n",
      "Nancy's favourite number is 7\n",
      "lily's favourite number is 9\n",
      "hebe's favourite number is 3\n",
      "tony's favourite number is 100\n"
     ]
    }
   ],
   "source": [
    "#6-2\n",
    "lovenum = {'Tom':5,'Nancy':7,'lily':9,'hebe':3,'tony':100}\n",
    "for key in lovenum:\n",
    "    print(key +\"'s favourite number is \" + str(lovenum[key]))"
   ]
  },
  {
   "cell_type": "code",
   "execution_count": 9,
   "metadata": {},
   "outputs": [
    {
     "name": "stdout",
     "output_type": "stream",
     "text": [
      "list:列表\n",
      "dict:字典\n",
      "if:条件\n",
      "python:语言\n",
      "print:打印\n"
     ]
    }
   ],
   "source": [
    "#6-3\n",
    "wordlist={'list':'列表','dict':'字典','if':'条件','python':'语言','print':'打印'}\n",
    "for key in wordlist:\n",
    "    print(key + ':' + wordlist[key])\n",
    "del wordlist['python']\n",
    "print(wordlist)"
   ]
  },
  {
   "cell_type": "code",
   "execution_count": 14,
   "metadata": {},
   "outputs": [
    {
     "name": "stdout",
     "output_type": "stream",
     "text": [
      "list:列表\n",
      "dict:字典\n",
      "if:条件\n",
      "python:语言\n",
      "print:打印\n",
      "set:集合不可重复\n",
      "tuple:元组不可修改\n",
      "import:引入包\n"
     ]
    }
   ],
   "source": [
    "#6-4\n",
    "wordlist={'list':'列表','dict':'字典','if':'条件','python':'语言',\n",
    "          'print':'打印','set':'集合不可重复','tuple':'元组不可修改','import':'引入包'}\n",
    "for key,value in wordlist.items():  # 要items才可以\n",
    "    print(key+ ':' +value)"
   ]
  },
  {
   "cell_type": "code",
   "execution_count": 21,
   "metadata": {
    "collapsed": true
   },
   "outputs": [
    {
     "name": "stdout",
     "output_type": "stream",
     "text": [
      "The Nile runs throught Egypt\n",
      "The Changjiang runs throught China\n",
      "The Huanghe runs throught China\n",
      "river:\n",
      "Changjiang\n",
      "Huanghe\n",
      "Nile\n",
      "country:\n",
      "China\n",
      "Egypt\n"
     ]
    }
   ],
   "source": [
    "#6-5\n",
    "rivers = {'nile':'egypt','changjiang':'china','huanghe':'china'}\n",
    "for key,value in rivers.items():\n",
    "    print('The '+key.title()+' runs throught '+value.title())\n",
    "print('river:')\n",
    "for key in sorted(rivers.keys()):\n",
    "    print(key.title())\n",
    "print('country:')\n",
    "for name in set(rivers.values()):\n",
    "    print(name.title())"
   ]
  },
  {
   "cell_type": "code",
   "execution_count": 23,
   "metadata": {},
   "outputs": [
    {
     "name": "stdout",
     "output_type": "stream",
     "text": [
      "Tom, we hope for your cooperation.\n",
      "Jen, thank you for your cooperation.\n",
      "Phil, thank you for your cooperation.\n",
      "Lily, we hope for your cooperation.\n"
     ]
    }
   ],
   "source": [
    "#6-6\n",
    "favorite_lan ={\n",
    "    'jen':'python',\n",
    "    'sarah':'c',\n",
    "    'edward':'ruby',\n",
    "    'phil':'python'\n",
    "}\n",
    "person=['tom','jen','phil','lily']\n",
    "for p in person:\n",
    "    if p in favorite_lan.keys():\n",
    "        print(p.title() +', thank you for your cooperation.')\n",
    "    else:\n",
    "        print(p.title() +', we hope for your cooperation.')"
   ]
  },
  {
   "cell_type": "code",
   "execution_count": 30,
   "metadata": {},
   "outputs": [
    {
     "name": "stdout",
     "output_type": "stream",
     "text": [
      "---------\n",
      "first_name:zhang\n",
      "last_name:san\n",
      "age:10\n",
      "city:beijing\n",
      "---------\n",
      "first_name:li\n",
      "last_name:si\n",
      "age:20\n",
      "city:shanghai\n",
      "---------\n",
      "first_name:wang\n",
      "last_name:wu\n",
      "age:40\n",
      "city:shenzhen\n"
     ]
    }
   ],
   "source": [
    "#6-7\n",
    "friendA = {'first_name': 'zhang', 'last_name': 'san', 'age': 10, 'city': 'beijing'}\n",
    "friendB = {'first_name': 'li', 'last_name': 'si', 'age': '20', 'city': 'shanghai'}\n",
    "friendC = {'first_name': 'wang', 'last_name': 'wu', 'age': '40', 'city': 'shenzhen'}\n",
    "people=[]\n",
    "people.append(friendA)\n",
    "people.append(friendB)\n",
    "people.append(friendC)\n",
    "for p in people:\n",
    "    print(\"---------\")\n",
    "    for key,value in p.items():\n",
    "        if key=='age':\n",
    "            value=str(value)\n",
    "        print(key+':'+ value)"
   ]
  },
  {
   "cell_type": "code",
   "execution_count": 32,
   "metadata": {
    "collapsed": true
   },
   "outputs": [
    {
     "name": "stdout",
     "output_type": "stream",
     "text": [
      "------\n",
      "name:H\n",
      "zhuren:zhang\n",
      "------\n",
      "name:L\n",
      "zhuren:li\n",
      "------\n",
      "name:N\n",
      "zhuren:song\n"
     ]
    }
   ],
   "source": [
    "#6-8:\n",
    "tdog={'name':'H','zhuren':'zhang'}\n",
    "lcat={'name':'L','zhuren':'li'}\n",
    "npig={'name':'N','zhuren':'song'}\n",
    "pets = []\n",
    "pets.append(tdog)\n",
    "pets.append(lcat)\n",
    "pets.append(npig)\n",
    "for p in pets:\n",
    "    print('------')\n",
    "    for key,value in p.items():\n",
    "        print(key + ':' + value)"
   ]
  },
  {
   "cell_type": "code",
   "execution_count": 36,
   "metadata": {
    "collapsed": true
   },
   "outputs": [
    {
     "name": "stdout",
     "output_type": "stream",
     "text": [
      "Zhang's favourite_places are:\n",
      "Dali\n",
      "Chengdu\n",
      "Li's favourite_places are:\n",
      "Shandong\n",
      "Song's favourite_places are:\n",
      "Chongqing\n",
      "Xiamen\n"
     ]
    }
   ],
   "source": [
    "#6-9:\n",
    "favourite_places={\n",
    "    'zhang':['dali','chengdu'],\n",
    "    'li':['shandong'],\n",
    "    'song':['chongqing','xiamen']\n",
    "}\n",
    "for key,value in favourite_places.items():\n",
    "    print(key.title() + \"'s favourite_places are:\")\n",
    "    for p in value:\n",
    "        print(p.title())"
   ]
  },
  {
   "cell_type": "code",
   "execution_count": 41,
   "metadata": {
    "collapsed": true
   },
   "outputs": [
    {
     "name": "stdout",
     "output_type": "stream",
     "text": [
      "Tom's favourite numbers are:\n",
      "4\n",
      "5\n",
      "6\n",
      "Nancy's favourite numbers are:\n",
      "7\n",
      "8\n",
      "Lily's favourite numbers are:\n",
      "9\n",
      "Hebe's favourite numbers are:\n",
      "8\n",
      "9\n",
      "10\n",
      "Tony's favourite numbers are:\n",
      "100\n"
     ]
    }
   ],
   "source": [
    "#6-10\n",
    "lovenum = {\n",
    "    'Tom':[4,5,6],\n",
    "    'Nancy':[7,8],\n",
    "    'lily':[9],\n",
    "    'hebe':[8,9,10],\n",
    "    'tony':[100]\n",
    "}\n",
    "for key,value in lovenum.items():\n",
    "    print(key.title() + \"'s favourite numbers are:\")\n",
    "    for n in value:\n",
    "        print(str(n))"
   ]
  },
  {
   "cell_type": "code",
   "execution_count": 42,
   "metadata": {},
   "outputs": [
    {
     "name": "stdout",
     "output_type": "stream",
     "text": [
      "shenzhen's info:\n",
      "country:china\n",
      "population:20000000\n",
      "fact:new city\n",
      "beijing's info:\n",
      "country:china\n",
      "population:90000000\n",
      "fact:capital city\n",
      "shanghai's info:\n",
      "country:china\n",
      "population:90000000\n",
      "fact:finacial city\n"
     ]
    }
   ],
   "source": [
    "#6-11\n",
    "cities ={\n",
    "    'shenzhen':{\n",
    "        'country':'china',\n",
    "        'population':20000000,\n",
    "        'fact':'new city'\n",
    "    },\n",
    "    'beijing':{\n",
    "        'country':'china',\n",
    "        'population':90000000,\n",
    "        'fact':'capital city'\n",
    "    },\n",
    "    'shanghai':{\n",
    "        'country':'china',\n",
    "        'population':90000000,\n",
    "        'fact':'finacial city'\n",
    "    }\n",
    "}\n",
    "for key,value in cities.items():\n",
    "    print(key+\"'s info:\")\n",
    "    for name,desp in value.items():\n",
    "        if name=='population':\n",
    "            desp=str(desp)\n",
    "3        print(name+':'+desp)"
   ]
  },
  {
   "cell_type": "code",
   "execution_count": 43,
   "metadata": {
    "collapsed": true
   },
   "outputs": [],
   "source": [
    "#6-12\n",
    "cities['guangzhou']={\n",
    "    'country':'china',\n",
    "    'population':80000000,\n",
    "    'fact':'beautiful city'\n",
    "}\n",
    "print(cities)"
   ]
  },
  {
   "cell_type": "code",
   "execution_count": 44,
   "metadata": {},
   "outputs": [
    {
     "name": "stdout",
     "output_type": "stream",
     "text": [
      "{'shenzhen': {'country': 'china', 'population': 20000000, 'fact': 'new city'}, 'beijing': {'country': 'china', 'population': 90000000, 'fact': 'capital city'}, 'shanghai': {'country': 'china', 'population': 90000000, 'fact': 'finacial city'}, 'guangzhou': {'country': 'china', 'population': 80000000, 'fact': 'beautiful city'}}\n"
     ]
    }
   ],
   "source": []
  },
  {
   "cell_type": "code",
   "execution_count": null,
   "metadata": {
    "collapsed": true
   },
   "outputs": [],
   "source": []
  }
 ],
 "metadata": {
  "kernelspec": {
   "display_name": "Python 3",
   "language": "python",
   "name": "python3"
  },
  "language_info": {
   "codemirror_mode": {
    "name": "ipython",
    "version": 3
   },
   "file_extension": ".py",
   "mimetype": "text/x-python",
   "name": "python",
   "nbconvert_exporter": "python",
   "pygments_lexer": "ipython3",
   "version": "3.6.1"
  }
 },
 "nbformat": 4,
 "nbformat_minor": 2
}
