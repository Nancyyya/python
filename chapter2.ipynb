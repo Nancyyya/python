{
 "cells": [
  {
   "cell_type": "markdown",
   "metadata": {},
   "source": [
    "#第一章 起步\n",
    "#1-1 python.org\n",
    "#1-2 helloworld\n",
    "print(\"hello world\")\n",
    "#1-3 三个目标\n",
    "'''\n",
    "1、ohlife  定时写日记，可以设置提醒频率等发邮件提醒，回复邮件即可完成日记。\n",
    "2、数据挖掘算法实现\n",
    "3、记账工具\n",
    "'''"
   ]
  },
  {
   "cell_type": "markdown",
   "metadata": {},
   "source": [
    "#第二章 变量和简单数据类型"
   ]
  },
  {
   "cell_type": "code",
   "execution_count": 4,
   "metadata": {},
   "outputs": [
    {
     "name": "stdout",
     "output_type": "stream",
     "text": [
      "Nancyya\n"
     ]
    }
   ],
   "source": [
    "#2-1\n",
    "name = 'Nancyya'\n",
    "print(name)"
   ]
  },
  {
   "cell_type": "code",
   "execution_count": 6,
   "metadata": {},
   "outputs": [
    {
     "name": "stdout",
     "output_type": "stream",
     "text": [
      "Nancyya\n",
      "after change:Nancyya Feeng\n"
     ]
    }
   ],
   "source": [
    "#2-2\n",
    "name = 'Nancyya'\n",
    "print(name)\n",
    "name = 'Nancyya Feeng'\n",
    "print('after change:'+name)"
   ]
  },
  {
   "cell_type": "code",
   "execution_count": 7,
   "metadata": {},
   "outputs": [
    {
     "name": "stdout",
     "output_type": "stream",
     "text": [
      "Hello,Nancyya would you like to learn some python today?\n"
     ]
    }
   ],
   "source": [
    "#2-3\n",
    "name = 'Nancyya'\n",
    "print('Hello,'+name+' would you like to learn some python today?')"
   ]
  },
  {
   "cell_type": "code",
   "execution_count": 8,
   "metadata": {},
   "outputs": [
    {
     "name": "stdout",
     "output_type": "stream",
     "text": [
      "Nancyya\n",
      "NANCYYA\n",
      "nancyya\n"
     ]
    }
   ],
   "source": [
    "#2-4\n",
    "name = 'nancyya'\n",
    "print(name.title()) #首字母大写\n",
    "print(name.upper()) # 大写\n",
    "print(name.lower()) # 小写"
   ]
  },
  {
   "cell_type": "code",
   "execution_count": 9,
   "metadata": {},
   "outputs": [
    {
     "name": "stdout",
     "output_type": "stream",
     "text": [
      "Albert Einstein once said:\"A person who never made a mistake never tried anything new\"\n"
     ]
    }
   ],
   "source": [
    "#2-5\n",
    "words = 'Albert Einstein once said:\"A person who never made a mistake never tried anything new\"'\n",
    "print(words)"
   ]
  },
  {
   "cell_type": "code",
   "execution_count": 12,
   "metadata": {},
   "outputs": [
    {
     "name": "stdout",
     "output_type": "stream",
     "text": [
      "Albert Einsteinonce said:\"A person who never made a mistake never tried anything new\"\n"
     ]
    }
   ],
   "source": [
    "#2-6\n",
    "famous_persons = 'Albert Einstein'\n",
    "words = \"\\\"A person who never made a mistake never tried anything new\\\"\"\n",
    "print(famous_persons + 'once said:'+ words)"
   ]
  },
  {
   "cell_type": "code",
   "execution_count": 17,
   "metadata": {},
   "outputs": [
    {
     "name": "stdout",
     "output_type": "stream",
     "text": [
      "\t   Albert Einstein  \n",
      "  \n",
      "------------\n",
      "Albert Einstein  \n",
      "  \n",
      "------------\n",
      "\t   Albert Einstein\n",
      "------------\n",
      "Albert Einstein\n",
      "------------\n"
     ]
    }
   ],
   "source": [
    "#2-7\n",
    "famous_persons = '\\t   Albert Einstein  \\n  '\n",
    "print(famous_persons)\n",
    "print('------------')\n",
    "print(famous_persons.lstrip())\n",
    "print('------------')\n",
    "print(famous_persons.rstrip())\n",
    "print('------------')\n",
    "print(famous_persons.strip())\n",
    "print('------------')"
   ]
  },
  {
   "cell_type": "code",
   "execution_count": 18,
   "metadata": {},
   "outputs": [
    {
     "name": "stdout",
     "output_type": "stream",
     "text": [
      "8\n",
      "8\n",
      "8\n",
      "8.0\n"
     ]
    }
   ],
   "source": [
    "#2-8\n",
    "print(3+5)\n",
    "print(2*4)\n",
    "print(10-2)\n",
    "print(32/4)"
   ]
  },
  {
   "cell_type": "code",
   "execution_count": 19,
   "metadata": {},
   "outputs": [
    {
     "name": "stdout",
     "output_type": "stream",
     "text": [
      "best number is :7\n"
     ]
    }
   ],
   "source": [
    "#2-9 \n",
    "num=7\n",
    "print('my favourite number is : '+str(num)) #str"
   ]
  },
  {
   "cell_type": "code",
   "execution_count": 20,
   "metadata": {
    "collapsed": true
   },
   "outputs": [],
   "source": [
    "#2-10 注释 author@nancyya 2019"
   ]
  },
  {
   "cell_type": "code",
   "execution_count": 21,
   "metadata": {},
   "outputs": [
    {
     "name": "stdout",
     "output_type": "stream",
     "text": [
      "The Zen of Python, by Tim Peters\n",
      "\n",
      "Beautiful is better than ugly.\n",
      "Explicit is better than implicit.\n",
      "Simple is better than complex.\n",
      "Complex is better than complicated.\n",
      "Flat is better than nested.\n",
      "Sparse is better than dense.\n",
      "Readability counts.\n",
      "Special cases aren't special enough to break the rules.\n",
      "Although practicality beats purity.\n",
      "Errors should never pass silently.\n",
      "Unless explicitly silenced.\n",
      "In the face of ambiguity, refuse the temptation to guess.\n",
      "There should be one-- and preferably only one --obvious way to do it.\n",
      "Although that way may not be obvious at first unless you're Dutch.\n",
      "Now is better than never.\n",
      "Although never is often better than *right* now.\n",
      "If the implementation is hard to explain, it's a bad idea.\n",
      "If the implementation is easy to explain, it may be a good idea.\n",
      "Namespaces are one honking great idea -- let's do more of those!\n"
     ]
    }
   ],
   "source": [
    "#2-11\n",
    "import this"
   ]
  },
  {
   "cell_type": "markdown",
   "metadata": {},
   "source": [
    "优美胜于丑陋\n",
    "明了胜于隐晦\n",
    "简洁胜于复杂\n",
    "复杂胜于混乱\n",
    "扁平胜于嵌套\n",
    "宽松胜于紧凑\n",
    "可读性很重要\n",
    "即便是特例，也不可违背这些规则\n",
    "虽然现实往往不那么完美\n",
    "但是不应该放过任何异常\n",
    "除非你确定需要如此\n",
    "如果存在多种可能，不要猜测\n",
    "肯定有一种\n",
    "通常也是唯一种最佳的解决方案\n",
    "虽然这并不容易，因为你不是Python之父\n",
    "动手比不动手要好\n",
    "但不假思索就动手还不如不做\n",
    "如果你的方案很难懂，那肯定是一个糟糕的方案\n",
    "如果你的方案很好懂，那肯定是一个好方案\n",
    "命名空间非常有用，我们应当多加利用\n",
    "--------------------- \n",
    "作者：hurt-- \n",
    "来源：CSDN \n",
    "原文：https://blog.csdn.net/weixin_40907382/article/details/79870225 \n",
    "版权声明：本文为博主原创文章，转载请附上博文链接！"
   ]
  }
 ],
 "metadata": {
  "kernelspec": {
   "display_name": "Python 3",
   "language": "python",
   "name": "python3"
  },
  "language_info": {
   "codemirror_mode": {
    "name": "ipython",
    "version": 3
   },
   "file_extension": ".py",
   "mimetype": "text/x-python",
   "name": "python",
   "nbconvert_exporter": "python",
   "pygments_lexer": "ipython3",
   "version": "3.6.1"
  }
 },
 "nbformat": 4,
 "nbformat_minor": 2
}
