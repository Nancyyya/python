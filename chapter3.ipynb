{
 "cells": [
  {
   "cell_type": "markdown",
   "metadata": {},
   "source": [
    "第三章 列表简介"
   ]
  },
  {
   "cell_type": "code",
   "execution_count": 1,
   "metadata": {},
   "outputs": [
    {
     "name": "stdout",
     "output_type": "stream",
     "text": [
      "Tom\n",
      "Arya\n",
      "Jane\n"
     ]
    }
   ],
   "source": [
    "#3-1\n",
    "names=['Tom','Arya','Jane']\n",
    "print(names[0])\n",
    "print(names[1])\n",
    "print(names[2])"
   ]
  },
  {
   "cell_type": "code",
   "execution_count": 2,
   "metadata": {},
   "outputs": [
    {
     "name": "stdout",
     "output_type": "stream",
     "text": [
      "Tom, good morning!\n",
      "Arya, good morning!\n",
      "Jane, good morning!\n"
     ]
    }
   ],
   "source": [
    "#3-2\n",
    "names=['Tom','Arya','Jane']\n",
    "for name in names:\n",
    "    print(name + ', good morning!')"
   ]
  },
  {
   "cell_type": "code",
   "execution_count": 4,
   "metadata": {},
   "outputs": [
    {
     "name": "stdout",
     "output_type": "stream",
     "text": [
      "I usually go to office by metro\n",
      "I want to by a mini car\n"
     ]
    }
   ],
   "source": [
    "#3-3\n",
    "transport = ['bike','car','bus','metro']\n",
    "print('I usually go to office by '+transport[3])\n",
    "print('I want to by a mini '+transport[1])"
   ]
  },
  {
   "cell_type": "code",
   "execution_count": 34,
   "metadata": {},
   "outputs": [
    {
     "name": "stdout",
     "output_type": "stream",
     "text": [
      "Tom, would you like to join the party tommorrow?\n",
      "Arya, would you like to join the party tommorrow?\n",
      "Jane, would you like to join the party tommorrow?\n"
     ]
    }
   ],
   "source": [
    "#3-4 \n",
    "friends=['Tom','Arya','Jane']\n",
    "for person in friends:\n",
    "    print(person + ', would you like to join the party tommorrow?')"
   ]
  },
  {
   "cell_type": "code",
   "execution_count": 35,
   "metadata": {},
   "outputs": [
    {
     "name": "stdout",
     "output_type": "stream",
     "text": [
      "Tom cannot go to the party.\n",
      "Mike, would you like to join the party tommorrow?\n",
      "Arya, would you like to join the party tommorrow?\n",
      "Jane, would you like to join the party tommorrow?\n"
     ]
    }
   ],
   "source": [
    "#3-5\n",
    "friends=['Tom','Arya','Jane']\n",
    "print(friends[0]+' cannot go to the party.')\n",
    "friends[0]='Mike'\n",
    "for person in friends:\n",
    "    print(person + ', would you like to join the party tommorrow?')"
   ]
  },
  {
   "cell_type": "code",
   "execution_count": 36,
   "metadata": {},
   "outputs": [
    {
     "name": "stdout",
     "output_type": "stream",
     "text": [
      "find a big house:\n",
      "Nancy, would you like to join the party tommorrow?\n",
      "Mike, would you like to join the party tommorrow?\n",
      "Lily, would you like to join the party tommorrow?\n",
      "Arya, would you like to join the party tommorrow?\n",
      "Jane, would you like to join the party tommorrow?\n",
      "Lee, would you like to join the party tommorrow?\n"
     ]
    }
   ],
   "source": [
    "#3-6\n",
    "print('find a big house:')\n",
    "friends.insert(0,'Nancy')\n",
    "friends.insert(2,'Lily')\n",
    "friends.append('Lee')\n",
    "for person in friends:\n",
    "    print(person + ', would you like to join the party tommorrow?')"
   ]
  },
  {
   "cell_type": "code",
   "execution_count": 37,
   "metadata": {},
   "outputs": [
    {
     "name": "stdout",
     "output_type": "stream",
     "text": [
      "only two person can go to the party\n",
      "Lee,sorry\n",
      "Jane,sorry\n",
      "Arya,sorry\n",
      "Lily,sorry\n"
     ]
    }
   ],
   "source": [
    "#3-7\n",
    "print('only two person can go to the party')\n",
    "while(len(friends)>2):\n",
    "    print(friends.pop()+',sorry')"
   ]
  },
  {
   "cell_type": "code",
   "execution_count": 38,
   "metadata": {},
   "outputs": [
    {
     "name": "stdout",
     "output_type": "stream",
     "text": [
      "Nancy , will still go to the party\n",
      "Mike , will still go to the party\n",
      "[]\n"
     ]
    }
   ],
   "source": [
    "for person in friends:\n",
    "    print(person + ' , will still go to the party')\n",
    "del friends[0]\n",
    "del friends[0]\n",
    "print(friends)"
   ]
  },
  {
   "cell_type": "code",
   "execution_count": 49,
   "metadata": {},
   "outputs": [
    {
     "name": "stdout",
     "output_type": "stream",
     "text": [
      "sichuan\n",
      "spanish\n",
      "chongqing\n",
      "newyork\n",
      "janpan\n",
      "sorted():\n",
      "['chongqing', 'janpan', 'newyork', 'sichuan', 'spanish']\n",
      "['sichuan', 'spanish', 'chongqing', 'newyork', 'janpan']\n",
      "['spanish', 'sichuan', 'newyork', 'janpan', 'chongqing']\n",
      "['sichuan', 'spanish', 'chongqing', 'newyork', 'janpan']\n",
      "['janpan', 'newyork', 'chongqing', 'spanish', 'sichuan']\n",
      "['sichuan', 'spanish', 'chongqing', 'newyork', 'janpan']\n",
      "['chongqing', 'janpan', 'newyork', 'sichuan', 'spanish']\n",
      "['spanish', 'sichuan', 'newyork', 'janpan', 'chongqing']\n"
     ]
    }
   ],
   "source": [
    "#3-8\n",
    "travel=['sichuan','spanish','chongqing','newyork','janpan']\n",
    "for city in travel:\n",
    "    print(city)\n",
    "print('sorted():')\n",
    "print(sorted(travel))\n",
    "print(travel)\n",
    "print(sorted(travel,reverse=True))\n",
    "print(travel)\n",
    "travel.reverse()\n",
    "print(travel)\n",
    "travel.reverse()\n",
    "print(travel)\n",
    "travel.sort()\n",
    "print(travel)\n",
    "travel.sort(reverse=True)\n",
    "print(travel)"
   ]
  },
  {
   "cell_type": "code",
   "execution_count": 50,
   "metadata": {},
   "outputs": [
    {
     "name": "stdout",
     "output_type": "stream",
     "text": [
      "3\n"
     ]
    }
   ],
   "source": [
    "#3-9\n",
    "friends=['Tom','Arya','Jane']\n",
    "print(len(friends))"
   ]
  },
  {
   "cell_type": "code",
   "execution_count": 61,
   "metadata": {},
   "outputs": [
    {
     "name": "stdout",
     "output_type": "stream",
     "text": [
      "4\n",
      "['grey', 'yellow', 'green', 'red']\n",
      "['red', 'green', 'yellow', 'grey']\n",
      "['green', 'grey', 'red', 'yellow']\n",
      "['red', 'green', 'yellow', 'grey']\n",
      "['green', 'grey', 'red', 'yellow']\n"
     ]
    }
   ],
   "source": [
    "#3-10\n",
    "colorlist=['red','green','yellow','grey']\n",
    "print(len(colorlist))\n",
    "colorlist.reverse()\n",
    "print(colorlist)\n",
    "colorlist.reverse()\n",
    "print(colorlist)\n",
    "print(sorted(colorlist))\n",
    "print(colorlist)\n",
    "colorlist.sort()\n",
    "print(colorlist)"
   ]
  },
  {
   "cell_type": "code",
   "execution_count": 62,
   "metadata": {},
   "outputs": [
    {
     "name": "stdout",
     "output_type": "stream",
     "text": [
      "['green', 'red', 'yellow']\n",
      "['green', 'red']\n",
      "['red']\n",
      "['blue', 'red']\n",
      "['blue', 'pink']\n"
     ]
    }
   ],
   "source": [
    "colorlist.remove('grey')\n",
    "print(colorlist)\n",
    "colorlist.pop()\n",
    "print(colorlist)\n",
    "del colorlist[0]\n",
    "print(colorlist)\n",
    "colorlist.insert(0,'blue')\n",
    "print(colorlist)\n",
    "colorlist[1]='pink'\n",
    "print(colorlist)"
   ]
  },
  {
   "cell_type": "code",
   "execution_count": 64,
   "metadata": {},
   "outputs": [
    {
     "name": "stdout",
     "output_type": "stream",
     "text": [
      "pink\n"
     ]
    }
   ],
   "source": [
    "#3-11\n",
    "#print(colorlist[2])\n",
    "print(colorlist[-1])"
   ]
  },
  {
   "cell_type": "code",
   "execution_count": null,
   "metadata": {
    "collapsed": true
   },
   "outputs": [],
   "source": []
  }
 ],
 "metadata": {
  "kernelspec": {
   "display_name": "Python 3",
   "language": "python",
   "name": "python3"
  },
  "language_info": {
   "codemirror_mode": {
    "name": "ipython",
    "version": 3
   },
   "file_extension": ".py",
   "mimetype": "text/x-python",
   "name": "python",
   "nbconvert_exporter": "python",
   "pygments_lexer": "ipython3",
   "version": "3.6.1"
  }
 },
 "nbformat": 4,
 "nbformat_minor": 2
}
